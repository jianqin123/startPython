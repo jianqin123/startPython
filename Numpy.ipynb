{
 "cells": [
  {
   "cell_type": "markdown",
   "metadata": {
    "collapsed": true
   },
   "source": [
    "创建ndarray\n",
    " 1,ndarray中的属性\n",
    "   shape:纬度\n",
    "   ndim:维数\n",
    "   size:元素个数\n",
    "   dtype:数据类型\n",
    "   itemsize:每个元素大小\n"
   ]
  },
  {
   "cell_type": "code",
   "execution_count": 1,
   "metadata": {},
   "outputs": [
    {
     "name": "stdout",
     "output_type": "stream",
     "text": [
      "[1 2 3]\n[[1 2 3]\n [4 5 6]]\n[ 0.  0.  0.  0.  0.  0.  0.  0.  0.  0.]\n[[ 0.  0.  0.  0.]\n [ 0.  0.  0.  0.]]\n[[ 0.  0.  0.]\n [ 0.  0.  0.]]\n(2, 3)\n2\n6\nfloat64\n8\n"
     ]
    }
   ],
   "source": [
    "import numpy as np\n",
    "ndarray=np.array([1,2,3])#一维列表作为参数传入\n",
    "print(ndarray)\n",
    "ndarray=np.array([[1,2,3],\\\n",
    "                  [4,5,6]])#多个等长的一维列表作为参数传入\n",
    "print(ndarray)\n",
    "#nummpy 自带的初始化函数 zeros()和empty()，纬度以元组形式传入\n",
    "ndarray=np.zeros(10)\n",
    "print(ndarray)\n",
    "ndarray=np.zeros((2,4))\n",
    "print(ndarray)\n",
    "ndarray=np.empty((2,3))\n",
    "print(ndarray)\n",
    "#ndarray对象中的一些属性\n",
    "print(ndarray.shape)\n",
    "print(ndarray.ndim)\n",
    "print(ndarray.size)\n",
    "print(ndarray.dtype)\n",
    "print(ndarray.itemsize)"
   ]
  },
  {
   "cell_type": "markdown",
   "metadata": {},
   "source": [
    "数据类型装换\n"
   ]
  },
  {
   "cell_type": "code",
   "execution_count": 8,
   "metadata": {},
   "outputs": [
    {
     "name": "stdout",
     "output_type": "stream",
     "text": [
      "float64\n[ 1.1  2.   3.3]\n[1 2 3]\n"
     ]
    }
   ],
   "source": [
    "ndarray=np.array([1.1,2,3.3])\n",
    "print(ndarray.dtype)\n",
    "print(ndarray)\n",
    "ndarray=ndarray.astype(np.int)#数据类型装换\n",
    "print(ndarray)"
   ]
  },
  {
   "cell_type": "code",
   "execution_count": null,
   "metadata": {},
   "outputs": [],
   "source": [
    "数组中的以及与标量之间的计算，索引,切片\n",
    "数组中的索引与列表最大的区别在于，数组中的索引不再死复制，而是直接在原数组的视图上进行改变（详见书上）"
   ]
  },
  {
   "cell_type": "code",
   "execution_count": 19,
   "metadata": {},
   "outputs": [
    {
     "name": "stdout",
     "output_type": "stream",
     "text": [
      "[[ 0  2  4  6  8 10 12 14 16 18]]\n[[0 1 2 3 4 5 6 7 8 9]]\n[[ 0  1  4  9 16 25 36 49 64 81]]\n[[0 1 2 3 4 5 6 7 8 9]]\n[[ 0  1  4  9 16 25 36 49 64 81]]\n[[0 0 0 0 0 0 0 0 0 0]]\n[[0 1 2 3 4 5 6 7 8 9]]\n[[ 0.          1.          1.41421356  1.73205081  2.          2.23606798\n   2.44948974  2.64575131  2.82842712  3.        ]]\n[range(0, 10)]\nrange(0, 10)\n[0 1 2 3 4 5 6 7 8 9]\n[1 3 5 7 9]\n"
     ]
    }
   ],
   "source": [
    "adarray=np.array([1,2,3])\n",
    "print(ndarray*2)\n",
    "print(ndarray)\n",
    "print(ndarray**2)\n",
    "print(ndarray)\n",
    "print(ndarray*ndarray)\n",
    "print(ndarray-ndarray)\n",
    "print(ndarray)\n",
    "print(ndarray**0.5)\n",
    "#一维时索引和切片--------------------------------------------------\n",
    "print([range(10)])\n",
    "print(range(10))\n",
    "#传入range(10)这类集合数据时，list(range(10))和[range(10)]不是同一种结果，前者将逐个分解参数里面的元素，后者直接将参数里面的元素作为一个整体\n",
    "ndarray=np.array(list(range(10)))\n",
    "print(ndarray)\n",
    "print(ndarray[1:10:2])"
   ]
  },
  {
   "cell_type": "markdown",
   "metadata": {},
   "source": [
    "numpy的二维索引和切片\n",
    "1,二维数组不同维度上的索引用，隔开\n",
    "例如naarray[0,1]\n",
    "2,二维数组的切分也可以在各自维度上进行切分\n",
    "3,还可以将比较得到的boolean值作为索引来访问数组"
   ]
  },
  {
   "cell_type": "markdown",
   "metadata": {},
   "source": [
    "数组装置和轴对换（此处略）\n",
    "数组的通用函数\n"
   ]
  },
  {
   "cell_type": "code",
   "execution_count": 27,
   "metadata": {
    "collapsed": true
   },
   "outputs": [
    {
     "name": "stdout",
     "output_type": "stream",
     "text": [
      "1\n1.0\n[ 1 -1  2]\n[1 1 2]\n"
     ]
    }
   ],
   "source": [
    "import  math \n",
    "print(abs(-1))\n",
    "print(math.fabs(-1))\n",
    "ndarray=np.array([1,-1,2])\n",
    "print(ndarray)\n",
    "print(abs(ndarray))"
   ]
  },
  {
   "cell_type": "markdown",
   "metadata": {},
   "source": [
    "np.where(cond,xarr,yarr)表达式"
   ]
  },
  {
   "cell_type": "code",
   "execution_count": 29,
   "metadata": {},
   "outputs": [
    {
     "name": "stdout",
     "output_type": "stream",
     "text": [
      "[ 1.1  2.2  1.3  2.4  1.5]\n"
     ]
    }
   ],
   "source": [
    "xarr=np.array([1.1,1.2,1.3,1.4,1.5])\n",
    "yarr=np.array([2.1,2.2,2.3,2.4,2.5])\n",
    "cond=np.array([True,False,True,False,True])\n",
    "print(np.where(cond,xarr,yarr))"
   ]
  },
  {
   "cell_type": "markdown",
   "metadata": {},
   "source": [
    "numpy中的数学统计方法\n",
    " 1，以下函数,用户对数组作为一个集合计算其统计值，这些函数作为数组的一个属性函数存在\n",
    "   sum(),mean(),str(),var(),min(),max() ,argmin(),argmax()，sort()#sort()函数可以根据传入的参数对数组在不同维度上对数组进行排序\n",
    "\n",
    " 2，numpy中对数组计算唯一化以及其他的集合操作\n",
    "   unique(),intersec1d(x,y):计算x,y中的公共元素，并返回有序的结果，union(x,y)，in1d(x,y):，setdiff1d(x,y)\n",
    " 3,nummpy还支持线性代数中的计算和随机数的生成，详解见书本\n"
   ]
  },
  {
   "cell_type": "code",
   "execution_count": null,
   "metadata": {},
   "outputs": [],
   "source": [
    ""
   ]
  }
 ],
 "metadata": {
  "kernelspec": {
   "display_name": "Python 2",
   "language": "python",
   "name": "python2"
  },
  "language_info": {
   "codemirror_mode": {
    "name": "ipython",
    "version": 2.0
   },
   "file_extension": ".py",
   "mimetype": "text/x-python",
   "name": "python",
   "nbconvert_exporter": "python",
   "pygments_lexer": "ipython2",
   "version": "2.7.6"
  }
 },
 "nbformat": 4,
 "nbformat_minor": 0
}