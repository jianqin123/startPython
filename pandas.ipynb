{
 "cells": [
  {
   "cell_type": "markdown",
   "metadata": {
    "collapsed": true
   },
   "source": [
    "Pandas中series和字典相比具有如下特点\n",
    " 1，Series中和字典一样都是具有两个集合，Series具有index和values属性，字典具有key和value,而且两者之间的关系都是关联\n",
    " 2，Series中对数据的操作更加丰富和灵活，比如字典中的键必须是不可变类型\n",
    " 3，Series包含丰富的基于Series的集合粒度上的操作"
   ]
  },
  {
   "cell_type": "heading",
   "metadata": {},
   "level": 1,
   "source": [
    "#Series 初始化,每一个Series都包含两个元素，一个index和一个values"
   ]
  },
  {
   "cell_type": "code",
   "execution_count": 4,
   "metadata": {},
   "outputs": [
    {
     "name": "stdout",
     "output_type": "stream",
     "text": [
      "0    1\n1    2\n2    3\n3    4\n4    5\ndtype: int64 \n 0    0\n1    1\n2    2\n3    3\n4    4\n5    5\n6    6\n7    7\n8    8\n9    9\ndtype: int32\nRangeIndex(start=0, stop=10, step=1) \n [0 1 2 3 4 5 6 7 8 9]\n"
     ]
    }
   ],
   "source": [
    "#初始化\n",
    "import numpy as np\n",
    "import pandas as pd\n",
    "from pandas import Series,DataFrame\n",
    "obj=Series([1,2,3,4,5])\n",
    "obj1=Series(range(10))\n",
    "print(obj,\"\\n\",obj1)\n",
    "print(obj1.index,\"\\n\",obj1.values)"
   ]
  },
  {
   "cell_type": "code",
   "execution_count": 9,
   "metadata": {},
   "outputs": [
    {
     "name": "stdout",
     "output_type": "stream",
     "text": [
      "obj['a']: 1 \n obj[0]:  1 \n obj: \n a    1\nb    2\nc    3\nd    4\ne    5\ndtype: int64\n"
     ]
    }
   ],
   "source": [
    "#通过索引值访问Series,\n",
    "\n",
    "obj.index=['a','b','c','d','e']\n",
    "\n",
    "print(\"obj['a']:\",obj['a'],\"\\n\",\"obj[0]: \",obj[0],\"\\n\",\"obj:\",\"\\n\",obj)"
   ]
  },
  {
   "cell_type": "code",
   "execution_count": null,
   "metadata": {},
   "outputs": [],
   "source": [
    "python中DataFrame\n",
    "1,DataFrame可以看成是由一个个seriees组成的\n",
    "2，DataFrame是一个二维的数据结构，有columns和index分别作为横轴和纵轴的索引，索引是不可改变的，的是可以在初始的时候指定\n",
    "3，DataFrame还有values()方法，用来返回DataFream中的二维数据"
   ]
  },
  {
   "cell_type": "code",
   "execution_count": 21,
   "metadata": {},
   "outputs": [
    {
     "name": "stdout",
     "output_type": "stream",
     "text": [
      "   one  two  three\n1    0    1      2\n2    3    4      5\n3    6    7      8\n[[1 2 3]\n [4 5 6]]\nEmpty DataFrame\nColumns: [one, two]\nIndex: []\n"
     ]
    }
   ],
   "source": [
    "#初始化\n",
    "data={\"first\":[1,2,3],\"second\":[4,5,6]}\n",
    "data1=np.array([[1,2,3],[4,5,6]])\n",
    "data_frame1=DataFrame(np.arange(9).reshape((3,3)),index=[1,2,3],columns=[\"one\",\"two\",\"three\"])\n",
    "print(data_frame1)\n",
    "print(data1)\n",
    "data_frame=DataFrame(data,columns=[\"one\",\"two\"])\n",
    "\n",
    "print(data_frame)"
   ]
  },
  {
   "cell_type": "heading",
   "metadata": {},
   "level": 1,
   "source": [
    "DataFrame ,Series 中的丢弃"
   ]
  },
  {
   "cell_type": "code",
   "execution_count": 25,
   "metadata": {},
   "outputs": [
    {
     "name": "stdout",
     "output_type": "stream",
     "text": [
      "before drop: \n a    0\nb    1\nc    2\nd    3\ne    4\ndtype: int32\ndrop:  \n b    1\nc    2\nd    3\ne    4\ndtype: int32\nbefore drop : \n    one  two  three  four\na    0    1      2     3\nb    4    5      6     7\ndrop : \n    one  two  three  four\nb    4    5      6     7 \n drop :  \n    two  three  four\na    1      2     3\nb    5      6     7\n"
     ]
    }
   ],
   "source": [
    "#Datafram,Series丢弃：drop()\n",
    "obj=Series(np.arange(5),index=[\"a\",\"b\",\"c\",\"d\",\"e\"])\n",
    "newObj=obj.drop(\"a\")\n",
    "print(\"before drop:\",\"\\n\",obj)\n",
    "print(\"drop: \",\"\\n\",newObj)\n",
    "data_frame2=DataFrame(np.arange(8).reshape((2,4)),\n",
    "                      index=[\"a\",\"b\"],\n",
    "                      columns=[\"one\",\"two\",\"three\",\"four\"])\n",
    "print(\"before drop :\",\"\\n\",data_frame2)\n",
    "#DataFrame中默认的drop()按index丢弃，若传入axis=1,则按照columns丢弃\n",
    "print(\"drop :\",\"\\n\",data_frame2.drop(\"a\") ,\"\\n\",\n",
    "       \"drop : \",\"\\n\",data_frame2.drop(\"one\",axis=1))"
   ]
  },
  {
   "cell_type": "markdown",
   "metadata": {},
   "source": [
    "索引，选取,过滤\n",
    "1,Series和DataFrame都是可变对象\n",
    "2,Series中通过切分赋值,(a)如果复制对象是单个的，则Series中在索引中的所有元素都赋值给这个单一的值\n",
    "(b)如果Series中赋值对象是集合类的，则对应的值按序赋值;但是在list()中赋值对象是不支持非iterable()\n",
    "对象的，也就是说list()中赋值只能出现(b)那样的情况\n",
    "3,DataFrame中obj[a]，如果a用字符串输入，则表示按照列（columns）进行索引切分，若输入时数字，则按照行进行切分"
   ]
  },
  {
   "cell_type": "code",
   "execution_count": 9,
   "metadata": {},
   "outputs": [
    {
     "name": "stdout",
     "output_type": "stream",
     "text": [
      "obj['b'] 1.0 \n obj[1] :  1.0\nobj[2:4] : c    2.0\nd    3.0\ndtype: float64 \n obj[['a','b','c']]  : a    0.0\nb    1.0\nc    2.0\ndtype: float64\n obj[obj<2]:  a    0.0\nb    1.0\ndtype: float64\nobj['a':'c']:  a    0.0\nb    1.0\nc    2.0\ndtype: float64\n[0, 1, 2, 3]\nobj:  a    0.0\nb    5.0\nc    5.0\nd    3.0\ndtype: float64\nobj:  a    0.0\nb    1.0\nc    2.0\nd    3.0\ndtype: float64\nalist:  [4, 2, 3]\n"
     ]
    }
   ],
   "source": [
    "#Series\n",
    "obj=Series(np.arange(4.),index=[\"a\",\"b\",\"c\",\"d\"])\n",
    "print(\"obj['b']\",obj[\"b\"],\"\\n\",\"obj[1] : \",obj[1])\n",
    "#Series中的切片\n",
    "print(\"obj[2:4] :\",obj[2:4],\"\\n\",\"obj[['a','b','c']]  :\",obj[['a','b','c']])\n",
    "print(\" obj[obj<2]: \",obj[obj<2])\n",
    "print(\"obj['a':'c']: \",obj['a':'c'])\n",
    "\n",
    "#Series中的改变值（重新赋值）\n",
    "obj[\"b\":\"c\"]=5\n",
    "alist=list(np.arange(4))\n",
    "print(alist)\n",
    "alist[:2]=[4]#Series中的赋值与list中的赋值，在list中赋值赋值的对象必须是一个iterable的，而Series中则没有这个要求\n",
    "print(\"obj: \",obj)\n",
    "obj[1:3]=[1,2]\n",
    "print(\"obj: \",obj)\n",
    "print(\"alist: \",alist)"
   ]
  },
  {
   "cell_type": "code",
   "execution_count": 23,
   "metadata": {},
   "outputs": [
    {
     "name": "stdout",
     "output_type": "stream",
     "text": [
      "original dataFrame: data\n           one  two  three  four\nOhio        0    1      2     3\nColorado    4    5      6     7\nUtah        8    9     10    11\nNew York   12   13     14    15 \n\ndata['one']:\n Ohio         0\nColorado     4\nUtah         8\nNew York    12\nName: one, dtype: int32 \n data[['one','two']]:\n           one  two\nOhio        0    1\nColorado    4    5\nUtah        8    9\nNew York   12   13\n每一列以列的名字作为了DataFrame的一个属性进行访问：data.one\n Ohio         0\nColorado     4\nUtah         8\nNew York    12\nName: one, dtype: int32\n传入数组对row进行索引：data[:2]\n           one  two  three  four\nOhio        0    1      2     3\nColorado    4    5      6     7\n根据布尔型数组选取行： data[data['one']>5] \n           one  two  three  four\nUtah        8    9     10    11\nNew York   12   13     14    15\n采用ix[]索引：\n\ndata.ix['Ohio',['two','three']] \n two      1\nthree    2\nName: Ohio, dtype: int32\ndata.ix['Colorado',:] \n one      4\ntwo      5\nthree    6\nfour     7\nName: Colorado, dtype: int32\ndata.ix[1,2] \n 6\ndata.icol(1) :\n Ohio         1\nColorado     5\nUtah         9\nNew York    13\nName: two, dtype: int32\ndata.irow(0):\n one      0\ntwo      1\nthree    2\nfour     3\nName: Ohio, dtype: int32\ndata. :\n      one  two  three  four\none  NaN  NaN    NaN   NaN\n"
     ]
    },
    {
     "name": "stderr",
     "output_type": "stream",
     "text": [
      "D:\\python3.5.2\\lib\\site-packages\\ipykernel_launcher.py:18: FutureWarning: icol(i) is deprecated. Please use .iloc[:,i]\nD:\\python3.5.2\\lib\\site-packages\\ipykernel_launcher.py:19: FutureWarning: irow(i) is deprecated. Please use .iloc[i]\n"
     ]
    }
   ],
   "source": [
    "#DataFrame\n",
    "data=DataFrame(np.arange(16).reshape((4,4)),\n",
    "               index=[\"Ohio\",\"Colorado\",\"Utah\",\"New York\"],\n",
    "               columns=[\"one\",\"two\",\"three\",\"four\"])\n",
    "print(\"original dataFrame: data\\n\",data,\"\\n\")\n",
    "#按照columns（列）进行索引\n",
    "print(\"data['one']:\\n\",       data[\"one\"],\"\\n\",\n",
    "     \"data[['one','two']]:\\n\",data[[\"one\",\"two\"]])\n",
    "print(\"每一列以列的名字作为了DataFrame的一个属性进行访问：data.one\\n\",data.one)\n",
    "#通过dataFrame.ix[,]选取行，或者行和列同时进行选择\n",
    "print(\"传入数组对row进行索引：data[:2]\\n\",data[:2])\n",
    "print(\"根据布尔型数组选取行：\",\"data[data['one']>5]\",\"\\n\",data[data[\"one\"]>5])\n",
    "print(\"采用ix[]索引：\\n\")\n",
    "print(\"data.ix['Ohio',['two','three']]\",\"\\n\",data.ix[\"Ohio\",[\"two\",\"three\"]])\n",
    "print(\"data.ix['Colorado',:]\",\"\\n\",data.ix[\"Colorado\",:])\n",
    "print(\"data.ix[1,2]\",\"\\n\",data.ix[1,2])\n",
    "#icol,irow方法\n",
    "print(\"data.icol(1) :\\n\",data.icol(1))\n",
    "print(\"data.irow(0):\\n\",data.irow(0))\n",
    "# #Data.frame按照某个轴进行排序\n",
    "# print(\"data. :\\n\",data.reindex(['one']))\n",
    "\n",
    "\n",
    "\n",
    "#"
   ]
  },
  {
   "cell_type": "heading",
   "metadata": {},
   "level": 1,
   "source": [
    "算术对齐和数据对齐\n",
    "1,Series ,按index进行对齐，缺失的用nan填充\n",
    "2,DataFrame，按照index和columns进行对齐，缺失的用nan填充"
   ]
  },
  {
   "cell_type": "code",
   "execution_count": 25,
   "metadata": {},
   "outputs": [
    {
     "name": "stdout",
     "output_type": "stream",
     "text": [
      "s1:\n a    7.3\nc   -2.5\nd    3.4\ne    1.5\ndtype: float64 s2:\n a   -1.2\nc    3.6\ne   -1.5\nf    4.0\ng    3.1\ndtype: float64\ns1+s2:\n a    6.1\nc    1.1\nd    NaN\ne    0.0\nf    NaN\ng    NaN\ndtype: float64\ndf1:\n            b  c  d\nOhio       0  1  2\nTexas      3  4  5\nColoradio  6  7  8\ndf2:\n         b   d   e\nUtah    0   1   2\nOhio    3   4   5\nTexas   6   7   8\nOregon  9  10  11\ndf1+df2:\n              b   c     d   e\nColoradio  NaN NaN   NaN NaN\nOhio       3.0 NaN   6.0 NaN\nOregon     NaN NaN   NaN NaN\nTexas      9.0 NaN  12.0 NaN\nUtah       NaN NaN   NaN NaN\n"
     ]
    }
   ],
   "source": [
    "#Series ,按index进行对齐，缺失的用nan填充\n",
    "s1=Series([7.3,-2.5,3.4,1.5],index=[\"a\",\"c\",\"d\",\"e\"])\n",
    "s2=Series([-1.2,3.6,-1.5,4,3.1],index=[\"a\",\"c\",\"e\",\"f\",\"g\"])\n",
    "print(\"s1:\\n\",s1,\"s2:\\n\",s2)\n",
    "print(\"s1+s2:\\n\",s1+s2)#确实的用填充\n",
    "#DataFrame，按照index和columns进行对齐，缺失的用nan填充\n",
    "df1=DataFrame(np.arange(9).reshape((3,3)),\n",
    "              columns=list(\"bcd\"),\n",
    "              index=['Ohio','Texas','Coloradio'])\n",
    "df2=DataFrame(np.arange(12).reshape((4,3)),\n",
    "              columns=list(\"bde\"),\n",
    "              index=[\"Utah\",\"Ohio\",\"Texas\",\"Oregon\"])\n",
    "print(\"df1:\\n\",df1)\n",
    "print(\"df2:\\n\",df2)\n",
    "print(\"df1+df2:\\n\",df1+df2)"
   ]
  },
  {
   "cell_type": "heading",
   "metadata": {},
   "level": 1,
   "source": [
    "在算术方法中填充缺失值"
   ]
  },
  {
   "cell_type": "code",
   "execution_count": 27,
   "metadata": {},
   "outputs": [
    {
     "name": "stdout",
     "output_type": "stream",
     "text": [
      "df1:\n    a  b   c   d\n0  0  1   2   3\n1  4  5   6   7\n2  8  9  10  11 \n df2: \n     a   b   c   d   e\n0   0   1   2   3   4\n1   5   6   7   8   9\n2  10  11  12  13  14\n3  15  16  17  18  19 \n相加操作会引入空值：df1+df2:\n       a     b     c     d   e\n0   0.0   2.0   4.0   6.0 NaN\n1   9.0  11.0  13.0  15.0 NaN\n2  18.0  20.0  22.0  24.0 NaN\n3   NaN   NaN   NaN   NaN NaN\n相加时指定填充空值：\n       a     b     c     d     e\n0   0.0   2.0   4.0   6.0   4.0\n1   9.0  11.0  13.0  15.0   9.0\n2  18.0  20.0  22.0  24.0  14.0\n3  15.0  16.0  17.0  18.0  19.0\nreindex函数时指定不能匹配时应该填充的空值\n    a  b   c   d  e\n0  0  1   2   3  0\n1  4  5   6   7  0\n2  8  9  10  11  0\n"
     ]
    }
   ],
   "source": [
    "df1=DataFrame(np.arange(12).reshape((3,4)),\n",
    "              columns=list(\"abcd\"))\n",
    "df2=DataFrame(np.arange(20).reshape((4,5)),\n",
    "              columns=list(\"abcde\"))\n",
    "print(\"df1:\\n\",df1,\"\\n\",\"df2:\",\"\\n\",df2,\"\\n相加操作会引入空值：df1+df2:\\n\",df1+df2)\n",
    "print(\"相加时指定填充空值：\\n\",df1.add(df2,fill_value=0))\n",
    "print(\"reindex函数时指定不能匹配时应该填充的空值\\n\",df1.reindex(columns=df2.columns,fill_value=0))"
   ]
  },
  {
   "cell_type": "heading",
   "metadata": {},
   "level": 1,
   "source": [
    "DataFrame与Series之间的运算:通常在DataFrame中索引得到的一维数据已Series返回，二维数据以DataFrame返回(此处略)"
   ]
  },
  {
   "cell_type": "heading",
   "metadata": {},
   "level": 1,
   "source": [
    "函数应用和映射\n",
    "1,DataFrame对象调用apply()和applymap()之间的区别在于,前者是传入的以列为Series的集合数据，后者是元素级别的上的hanshu\n",
    "2,Series中同样有元素级别上的操作函数map()\n"
   ]
  },
  {
   "cell_type": "code",
   "execution_count": 30,
   "metadata": {},
   "outputs": [
    {
     "name": "stdout",
     "output_type": "stream",
     "text": [
      "s1.apply(format)\n 0    0.00\n1    1.00\n2    2.00\n3    3.00\ndtype: object\ns1.map(format)\n 0    0.00\n1    1.00\n2    2.00\n3    3.00\ndtype: object\nmax: 3\n"
     ]
    }
   ],
   "source": [
    "s1=Series(np.arange(4))\n",
    "format=lambda x:\"%.2f\" %x\n",
    "print(\"s1.apply(format)\\n\",s1.apply(format))\n",
    "print(\"s1.map(format)\\n\",s1.map(format))\n",
    "print(\"max:\",s1.max())\n",
    "#Dataframe同理"
   ]
  },
  {
   "cell_type": "markdown",
   "metadata": {},
   "source": [
    "排序和排名:排序时，任何缺失值都会被放到末尾\n",
    "1,Series主要通过两个方法进行排序，\n",
    "一个是sort(),其通过Series的内容进行排序；\n",
    "二是sort_index(),其按照数据的index来进行排序\n",
    "2，DataFrame的排序"
   ]
  },
  {
   "cell_type": "code",
   "execution_count": 43,
   "metadata": {
    "collapsed": true
   },
   "outputs": [
    {
     "name": "stdout",
     "output_type": "stream",
     "text": [
      "s:\n a    2\nc    1\nb    6\nd    3\ndtype: int64\n\n s.sort_values():\n a    2\nc    1\nb    6\nd    3\ndtype: int64\n\n s.sort_index(): <bound method Series.sort_index of a    2\nc    1\nb    6\nd    3\ndtype: int64>\nframe :\n        d  a  b  c\nthree  0  1  2  3\none    4  5  6  7\nframe.sort_index():\n        d  a  b  c\none    4  5  6  7\nthree  0  1  2  3\nsort on columns:frame.sort_index(axis=1,ascending=False):\n        d  c  b  a\nthree  0  3  2  1\none    4  7  6  5\nsort on index:frame.sort_index(axis=1,ascending=False)\n        d  a  b  c\nthree  0  1  2  3\none    4  5  6  7\nsort on  columuns:frame.sort_index(by='b') \n        d  a  b  c\nthree  0  1  2  3\none    4  5  6  7\nsort on multi columns:frame.sort_index(by=['a','b'])\n        d  a  b  c\nthree  0  1  2  3\none    4  5  6  7\n排序之前：\n 0    7\n1   -5\n2    7\n3    4\n4    2\n5    0\n6    4\ndtype: int64 \n排序之后的排名：s.rank(method='min')\n 0    6.0\n1    1.0\n2    6.0\n3    4.0\n4    3.0\n5    2.0\n6    4.0\ndtype: float64\nframe:\n    a    b    c\n0  0  4.3 -2.0\n1  1  7.0  5.0\n2  0 -3.0  8.0\n3  1  2.0 -2.5\nDataFrame的排名：frame.rank(axis=1,method='min')\n      a    b    c\n0  2.0  3.0  1.0\n1  1.0  3.0  2.0\n2  2.0  1.0  3.0\n3  2.0  3.0  1.0\n"
     ]
    }
   ],
   "source": [
    "#Series\n",
    "s=Series([2,1,6,3],index=[\"a\",\"c\",\"b\",\"d\"])\n",
    "print(\"s:\\n\",s)\n",
    "# s.sort()\n",
    "s.sort_values()\n",
    "print(\"\\n s.sort_values():\\n\",s)\n",
    "print(\"\\n s.sort_index():\",s.sort_index)\n",
    "#DataFrame\n",
    "frame=DataFrame(np.arange(8).reshape((2,4)),\n",
    "                index=[\"three\",\"one\"],\n",
    "                columns=\"d a b c\".split())\n",
    "print(\"frame :\\n\",frame)\n",
    "#DataFrame按照索引排序\n",
    "print(\"frame.sort_index():\\n\",frame.sort_index())\n",
    "#在index和columns上进行排序\n",
    "print(\"sort on columns:frame.sort_index(axis=1,ascending=False):\\n\",frame.sort_index(axis=1,ascending=False))\n",
    "print(\"sort on index:frame.sort_index(axis=1,ascending=False)\\n\",frame.sort_index(axis=0,ascending=False))\n",
    "#按照某一个列的值对行的位置进行排序\n",
    "print(\"sort on  columuns:frame.sort_index(by='b') \\n\",frame.sort_values(by='b'))\n",
    "#按照多个列的值一次对行的位置进行排序\n",
    "print(\"sort on multi columns:frame.sort_index(by=['a','b'])\\n\",frame.sort_values(by=['a','b']))\n",
    "#获取排序之后的排名\n",
    "s=Series([7,-5,7,4,2,0,4])\n",
    "print(\"排序之前：\\n\",s,\"\\n排序之后的排名：s.rank(method='min')\\n\",s.rank(method='min'))\n",
    "frame=DataFrame({'b':[4.3,7,-3,2],\n",
    "                'a':[0,1,0,1],\n",
    "                 'c':[-2,5,8,-2.5]})\n",
    "print(\"frame:\\n\",frame)\n",
    "print(\"DataFrame的排名：frame.rank(axis=1,method='min')\\n\",frame.rank(axis=1,method='min'))"
   ]
  },
  {
   "cell_type": "heading",
   "metadata": {},
   "level": 1,
   "source": [
    "#带有重复值的索引：pandas中的DataFrame和Series中对于索引的唯一性要求并不严格\n",
    "Series和DataFrame都可以带有重复索引值，对于带有重复值的索引，会列出所有匹配索引值的元素\n"
   ]
  },
  {
   "cell_type": "code",
   "execution_count": 45,
   "metadata": {},
   "outputs": [
    {
     "name": "stdout",
     "output_type": "stream",
     "text": [
      "original s:\n a    1\na    2\nb    3\nb    4\ndtype: int64 \n s['a']\n a    1\na    2\ndtype: int64\norginal s:\n a    1\na    2\nb    3\nb    4\ndtype: int64 \n frame.ix['a']:\n    0  1\na  0  1\na  2  3\n"
     ]
    }
   ],
   "source": [
    "s=Series([1,2,3,4],index=['a','a','b','b'])\n",
    "print(\"original s:\\n\",s,\n",
    "      \"\\n s['a']\\n\",s['a'])\n",
    "frame=DataFrame(np.arange(12).reshape((6,2)),\n",
    "                index=['a','a','b','b','c','c'])\n",
    "print(\"orginal s:\\n\",s,\n",
    "      \"\\n frame.ix['a']:\\n\",frame.ix['a'])"
   ]
  },
  {
   "cell_type": "heading",
   "metadata": {},
   "level": 1,
   "source": [
    "汇总和计算描述统计\n",
    "1,DataFrame对象中的一些属性方法，可以用来对DataFrame中按行或者按列计算统计值,将axis参数传入用以指定是按行计算还是按列计算\n",
    "2，cumsum()：累积求和\n",
    "3，idxmin(),idxmax()：返回最大值或者最小值的索引\n",
    "4，describe()表述统计相关的计算量\n",
    "5，dataframe1.corrwith(dataframe2)：计算两个DataFrame中对应列名一样的相关系数"
   ]
  },
  {
   "cell_type": "code",
   "execution_count": 5,
   "metadata": {},
   "outputs": [
    {
     "name": "stdout",
     "output_type": "stream",
     "text": [
      "df :\n     one  two\na  1.40  NaN\nb  7.10 -4.5\nc   NaN  NaN\nd  0.75 -1.3\ndf.sum() one    9.25\ntwo   -5.80\ndtype: float64\ndf.sum(axis=1):\n a    1.40\nb    2.60\nc     NaN\nd   -0.55\ndtype: float64\n"
     ]
    }
   ],
   "source": [
    "df=DataFrame([[1.4,np.nan],[7.1,-4.5],[np.nan,np.nan],[0.75,-1.3]],\n",
    "             index='a b c d'.split(),columns='one two'.split())\n",
    "print(\"df :\\n\",df)\n",
    "print(\"df.sum()\",df.sum())#得到一行数据，数据是按列进行计算的\n",
    "print(\"df.sum(axis=1):\\n\",df.sum(axis=1))#得到一列数据，数据是按行进行计算得到"
   ]
  },
  {
   "cell_type": "heading",
   "metadata": {},
   "level": 1,
   "source": [
    "唯一值、计数值以及成员资格\n",
    "1，unique(),count_value(),value_counts()用来计算唯一值和计数值（此处略）"
   ]
  },
  {
   "cell_type": "heading",
   "metadata": {},
   "level": 1,
   "source": [
    "处理缺失数据\n",
    "1，DataFrame中可以按行或者列丢失数据:dropna(axis=?,how='?')\n",
    "2，可以设置丢失的阈值\n",
    "\n",
    "\n",
    "\n",
    "\n",
    "\n",
    "\n",
    "\n",
    "\n"
   ]
  },
  {
   "cell_type": "code",
   "execution_count": 10,
   "metadata": {},
   "outputs": [
    {
     "name": "stdout",
     "output_type": "stream",
     "text": [
      "data:\n      0    1    2\n0  1.0  6.5  3.0\n1  1.0  NaN  NaN\n2  NaN  NaN  NaN\n3  NaN  6.5  3.0\ndata.dropna():\n      0    1    2\n0  1.0  6.5  3.0\n只丢弃全为nan的行：      0    1    2\n0  1.0  6.5  3.0\n1  1.0  NaN  NaN\n3  NaN  6.5  3.0\n"
     ]
    }
   ],
   "source": [
    "from numpy import nan as NA\n",
    "data=DataFrame([[1.,6.5,3.],[1.,NA,NA],\n",
    "                [NA,NA,NA],[NA,6.5,3.]])\n",
    "print(\"data:\\n\",data)\n",
    "print(\"data.dropna():\\n\",data.dropna())\n",
    "print(\"只丢弃全为nan的行：\",data.dropna(how='all'))"
   ]
  },
  {
   "cell_type": "code",
   "execution_count": null,
   "metadata": {},
   "outputs": [],
   "source": [
    "填充缺失值:fillna()\n",
    "fillna函数的参数\n",
    "value:用于填充确实值的标量值或者字典对象(字典对象用来指定哪一行或者哪一列中的空值的特定填充值)\n",
    "method:填充空值的方法\n",
    "axis:按行填充还是按列填充\n",
    "inplace:原址填充还是返回新的DataFrame\n",
    "limit:对于前向填充或者后向填充，可以连续填充的最大数量"
   ]
  },
  {
   "cell_type": "code",
   "execution_count": null,
   "metadata": {},
   "outputs": [],
   "source": [
    "层次化索引\n",
    "1,Series和DataFrame中都可以用层次化索引，在初始化时，显然外层索引可能出现重复\n",
    "2,unstack()和stack()可以将二层索引的Series和二维DataFrame相互装换\n",
    "3,DataFrame中可以对索引指定名称：dataframe.index.names=[??],data.columns.names=[??]\n",
    "4,重拍分级顺序 swaplevel(\"level1.name\",\"levle2.name\"):交换层级内外层关系；\n",
    "  sortlevel(\"level.name\",axis):根据某个级别上的值进行排序,axis用来指定按行还是按列\n",
    " sum(level=?,axis=?):按层级和坐标求和\n",
    "\n",
    "\n",
    "\n"
   ]
  },
  {
   "cell_type": "code",
   "execution_count": null,
   "metadata": {},
   "outputs": [],
   "source": [
    "data=Series(np.random.randn(10),\n",
    "            index=[['a','a','a','b','b','b','c','c','d','d'],[1,2,1,1,2,3,1,2,2,3]])\n",
    "print(\"data:\\n\",data)\n",
    "print(\"data.index:\\n\",data.index)\n",
    "#索引\n",
    "print(\"data['b']:\\n\",data['b'])\n",
    "print(\"data['a':'c']\",data[\"a\":\"c\"])\n",
    "print(\"data.ix[['a','c']]:\\n\",data.ix[['a','c']])\n",
    "#在内层中索引\n",
    "print(\"data.ix[:,2]:\\n\",data.ix[:,2])\n",
    "print(\"由二层索引Sereies到二维DataFrame:data.unstack()\",data.unstack())\n",
    "print(\"由二维数组到二层索引的Series之间的转换\\n\",data.unstack().stack())"
   ]
  },
  {
   "cell_type": "code",
   "execution_count": null,
   "metadata": {},
   "outputs": [],
   "source": [
    "使用DataFrame中的列\n",
    "set_index()和reset_index:分别表示将DataFrame中的columns转为index;和reset_index则表示将index转为columns"
   ]
  },
  {
   "cell_type": "code",
   "execution_count": 13,
   "metadata": {},
   "outputs": [
    {
     "name": "stdout",
     "output_type": "stream",
     "text": [
      "frame:\n    a  b    c  d\n0  0  7  one  0\n1  1  6  one  1\n2  2  5  one  2\n3  3  4  two  0\n4  4  3  two  1\n5  5  2  two  2\n6  6  1  two  3\nframe.set_index(['c','d']):\n        a  b\nc   d      \none 0  0  7\n    1  1  6\n    2  2  5\ntwo 0  3  4\n    1  4  3\n    2  5  2\n    3  6  1\nframe:\n        a  b\nc   d      \none 0  0  7\n    1  1  6\n    2  2  5\ntwo 0  3  4\n    1  4  3\n    2  5  2\n    3  6  1\nframe.reset_index():\n      c  d  a  b\n0  one  0  0  7\n1  one  1  1  6\n2  one  2  2  5\n3  two  0  3  4\n4  two  1  4  3\n5  two  2  5  2\n6  two  3  6  1\n"
     ]
    }
   ],
   "source": [
    "frame=DataFrame({'a':list(range(7)),'b':list(range(7,0,-1)),\n",
    "                 'c':['one','one','one','two','two','two','two'],\n",
    "                 'd':[0,1,2,0,1,2,3]})\n",
    "print(\"frame:\\n\",frame)\n",
    "print(\"frame.set_index(['c','d']):\\n\",frame.set_index(['c','d']))\n",
    "frame=frame.set_index(['c','d'])\n",
    "print(\"frame:\\n\",frame)\n",
    "print(\"frame.reset_index():\\n\",frame.reset_index())"
   ]
  },
  {
   "cell_type": "code",
   "execution_count": null,
   "metadata": {},
   "outputs": [],
   "source": [
    ""
   ]
  }
 ],
 "metadata": {
  "kernelspec": {
   "display_name": "Python 2",
   "language": "python",
   "name": "python2"
  },
  "language_info": {
   "codemirror_mode": {
    "name": "ipython",
    "version": 2.0
   },
   "file_extension": ".py",
   "mimetype": "text/x-python",
   "name": "python",
   "nbconvert_exporter": "python",
   "pygments_lexer": "ipython2",
   "version": "2.7.6"
  }
 },
 "nbformat": 4,
 "nbformat_minor": 0
}