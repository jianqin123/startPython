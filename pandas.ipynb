{
 "cells": [
  {
   "cell_type": "markdown",
   "metadata": {
    "collapsed": true
   },
   "source": [
    "Pandas中series和字典相比具有如下特点\n",
    " 1，Series中和字典一样都是具有两个集合，Series具有index和values属性，字典具有key和value,而且两者之间的关系都是关联\n",
    " 2，Series中对数据的操作更加丰富和灵活，比如字典中的键必须是不可变类型\n",
    " 3，Series包含丰富的基于Series的集合粒度上的操作"
   ]
  },
  {
   "cell_type": "code",
   "execution_count": null,
   "metadata": {},
   "outputs": [],
   "source": [
    "#Series 初始化,每一个Series都包含两个元素，一个index和一个values"
   ]
  },
  {
   "cell_type": "code",
   "execution_count": 1,
   "metadata": {},
   "outputs": [
    {
     "name": "stdout",
     "output_type": "stream",
     "text": [
      "0    1\n1    2\n2    3\n3    4\n4    5\ndtype: int64 \n 0    0\n1    1\n2    2\n3    3\n4    4\n5    5\n6    6\n7    7\n8    8\n9    9\ndtype: int32\n"
     ]
    }
   ],
   "source": [
    "#初始化\n",
    "import numpy as np\n",
    "import pandas as pd\n",
    "from pandas import Series,DataFrame\n",
    "obj=Series([1,2,3,4,5])\n",
    "obj1=Series(range(10))\n",
    "print(obj,\"\\n\",obj1)\n",
    "print(obj1.index,\"\\n\",obj1.values)"
   ]
  },
  {
   "cell_type": "code",
   "execution_count": 9,
   "metadata": {},
   "outputs": [
    {
     "name": "stdout",
     "output_type": "stream",
     "text": [
      "obj['a']: 1 \n obj[0]:  1 \n obj: \n a    1\nb    2\nc    3\nd    4\ne    5\ndtype: int64\n"
     ]
    }
   ],
   "source": [
    "#通过索引值访问Series,\n",
    "\n",
    "obj.index=['a','b','c','d','e']\n",
    "\n",
    "print(\"obj['a']:\",obj['a'],\"\\n\",\"obj[0]: \",obj[0],\"\\n\",\"obj:\",\"\\n\",obj)"
   ]
  },
  {
   "cell_type": "code",
   "execution_count": null,
   "metadata": {},
   "outputs": [],
   "source": [
    "python中DataFrame\n",
    "1,DataFrame可以看成是由一个个seriees组成的\n",
    "2，DataFrame是一个二维的数据结构，有columns和index分别作为横轴和纵轴的索引，索引是不可改变的，的是可以在初始的时候指定\n",
    "3，DataFrame还有values()方法，用来返回DataFream中的二维数据"
   ]
  },
  {
   "cell_type": "code",
   "execution_count": 21,
   "metadata": {},
   "outputs": [
    {
     "name": "stdout",
     "output_type": "stream",
     "text": [
      "   one  two  three\n1    0    1      2\n2    3    4      5\n3    6    7      8\n[[1 2 3]\n [4 5 6]]\nEmpty DataFrame\nColumns: [one, two]\nIndex: []\n"
     ]
    }
   ],
   "source": [
    "#初始化\n",
    "data={\"first\":[1,2,3],\"second\":[4,5,6]}\n",
    "data1=np.array([[1,2,3],[4,5,6]])\n",
    "data_frame1=DataFrame(np.arange(9).reshape((3,3)),index=[1,2,3],columns=[\"one\",\"two\",\"three\"])\n",
    "print(data_frame1)\n",
    "print(data1)\n",
    "data_frame=DataFrame(data,columns=[\"one\",\"two\"])\n",
    "\n",
    "print(data_frame)"
   ]
  },
  {
   "cell_type": "code",
   "execution_count": 25,
   "metadata": {},
   "outputs": [
    {
     "name": "stdout",
     "output_type": "stream",
     "text": [
      "before drop: \n a    0\nb    1\nc    2\nd    3\ne    4\ndtype: int32\ndrop:  \n b    1\nc    2\nd    3\ne    4\ndtype: int32\nbefore drop : \n    one  two  three  four\na    0    1      2     3\nb    4    5      6     7\ndrop : \n    one  two  three  four\nb    4    5      6     7 \n drop :  \n    two  three  four\na    1      2     3\nb    5      6     7\n"
     ]
    }
   ],
   "source": [
    "#Datafram,Series丢弃：drop()\n",
    "obj=Series(np.arange(5),index=[\"a\",\"b\",\"c\",\"d\",\"e\"])\n",
    "newObj=obj.drop(\"a\")\n",
    "print(\"before drop:\",\"\\n\",obj)\n",
    "print(\"drop: \",\"\\n\",newObj)\n",
    "data_frame2=DataFrame(np.arange(8).reshape((2,4)),\n",
    "                      index=[\"a\",\"b\"],\n",
    "                      columns=[\"one\",\"two\",\"three\",\"four\"])\n",
    "print(\"before drop :\",\"\\n\",data_frame2)\n",
    "#DataFrame中默认的drop()按index丢弃，若传入axis=1,则按照columns丢弃\n",
    "print(\"drop :\",\"\\n\",data_frame2.drop(\"a\") ,\"\\n\",\n",
    "       \"drop : \",\"\\n\",data_frame2.drop(\"one\",axis=1))"
   ]
  },
  {
   "cell_type": "code",
   "execution_count": null,
   "metadata": {},
   "outputs": [],
   "source": [
    ""
   ]
  }
 ],
 "metadata": {
  "kernelspec": {
   "display_name": "Python 2",
   "language": "python",
   "name": "python2"
  },
  "language_info": {
   "codemirror_mode": {
    "name": "ipython",
    "version": 2.0
   },
   "file_extension": ".py",
   "mimetype": "text/x-python",
   "name": "python",
   "nbconvert_exporter": "python",
   "pygments_lexer": "ipython2",
   "version": "2.7.6"
  }
 },
 "nbformat": 4,
 "nbformat_minor": 0
}