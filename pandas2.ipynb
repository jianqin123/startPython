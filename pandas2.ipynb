{
 "cells": [
  {
   "cell_type": "heading",
   "metadata": {
    "collapsed": true
   },
   "level": 1,
   "source": [
    "数据规整化\n"
   ]
  },
  {
   "cell_type": "code",
   "execution_count": null,
   "metadata": {},
   "outputs": [],
   "source": [
    "DataFrame合并\n",
    "1,merge默认下是'inner'连接,其他连接方式还有'left','right','outer',其中'outer'是左连接和右连接的并集\n",
    "2,merge函数中有在合并时，有相同列时，用来添加后缀的额函数suffixes()\n",
    "3,on参数用来连接所按照的列名，当传入多个列名时，用列表表示\n",
    "4,left_index:在两个DataFrame合并的时候，将左边的DataFrame的index作为连接键与右边的DataFrame\n",
    "5，层次化的索引略"
   ]
  },
  {
   "cell_type": "code",
   "execution_count": 1,
   "metadata": {},
   "outputs": [
    {
     "name": "stdout",
     "output_type": "stream",
     "text": [
      "df1:\n    data1 key\n0      0   b\n1      1   b\n2      2   a\n3      3   c\n4      4   a\n5      5   a\n6      6   b\ndf2:\n    data2 key\n0      0   a\n1      1   b\n2      2   d\n    data1 key  data2\n0      0   b      1\n1      1   b      1\n2      6   b      1\n3      2   a      0\n4      4   a      0\n5      5   a      0\nleft1:\n   key  value\n0   a      0\n1   b      1\n2   a      2\n3   a      3\n4   b      4\n5   c      5\nright1:\n    group_val\na        3.5\nb        7.0\npd.merge(left1,right1,left_on='key'),right_index=True:\n   key  value  group_val\n0   a      0        3.5\n2   a      2        3.5\n3   a      3        3.5\n1   b      1        7.0\n4   b      4        7.0\n"
     ]
    }
   ],
   "source": [
    "import pandas as pd\n",
    "from  pandas import  DataFrame,Series\n",
    "import  numpy as np\n",
    "\n",
    "df1=DataFrame({'key':['b','b','a','c','a','a','b'],'data1':range(7)})\n",
    "df2=DataFrame({'key':['a','b','d'],'data2':range(3)})\n",
    "print(\"df1:\\n\",df1)\n",
    "print(\"df2:\\n\",df2)\n",
    "print(\"\",pd.merge(df1,df2,on='key',how='inner'))\n",
    "\n",
    "#将索引作为连接键\n",
    "left1=DataFrame({'key':['a','b','a','a','b','c'],\n",
    "                 'value':list(range(6))})\n",
    "right1=DataFrame({'group_val':[3.5,7]},index=['a','b'])\n",
    "print(\"left1:\\n\",left1)\n",
    "print(\"right1:\\n\",right1)\n",
    "print(\"pd.merge(left1,right1,left_on='key'),right_index=True:\\n\",pd.merge(left1,right1,left_on='key',right_index=True))"
   ]
  },
  {
   "cell_type": "code",
   "execution_count": null,
   "metadata": {},
   "outputs": [],
   "source": [
    "轴向连接:连接默认是按纵轴扩展连接，如果要横轴扩展连接，应该传入axis=1"
   ]
  },
  {
   "cell_type": "code",
   "execution_count": 10,
   "metadata": {},
   "outputs": [
    {
     "name": "stdout",
     "output_type": "stream",
     "text": [
      "arr:\n [[ 0  1  2  3]\n [ 4  5  6  7]\n [ 8  9 10 11]]\npd.concat([arr,arr],axis=1)\n [[ 0  1  2  3  0  1  2  3]\n [ 4  5  6  7  4  5  6  7]\n [ 8  9 10 11  8  9 10 11]]\npd.concat([s1,s2,s3]):\n a    0\nb    1\nc    2\nd    3\ne    4\nf    5\ng    6\ndtype: int64\ns4:\n a    0\nb    5\nf    5\ng    6\ndtype: int64\n"
     ]
    }
   ],
   "source": [
    "#连接数组\n",
    "arr=np.arange(12).reshape((3,4))\n",
    "print(\"arr:\\n\",arr)\n",
    "print(\"pd.concat([arr,arr],axis=1)\\n\",np.concatenate([arr,arr],axis=1))\n",
    "#连接pandas对象\n",
    "s1=Series([0,1],index=['a','b'])\n",
    "s2=Series([2,3,4],index=['c','d','e'])\n",
    "s3=Series([5,6],index=['f','g'])\n",
    "print(\"pd.concat([s1,s2,s3]):\\n\",pd.concat([s1,s2,s3]))\n",
    "print('+,* 操作符在list()中的作用',list(range(5))+list(range(6)))\n",
    "s4=pd.concat([s1*5,s3])\n",
    "print(\"s4:\\n\",s4)\n",
    "print(\"pd\",pd.concat([s1,s4],axis=1))\n",
    "#指定索引\n",
    "print(\"pd.concat([s1,s4],axis=1,join_axes=['a','c','b','e'])\\n\",\n",
    "      pd.concat([s1,s4],axis=1,join_axes=['a','c','b','e']))"
   ]
  },
  {
   "cell_type": "code",
   "execution_count": 12,
   "metadata": {},
   "outputs": [
    {
     "name": "stdout",
     "output_type": "stream",
     "text": [
      "[0, 1, 2, 3, 4, 0, 1, 2, 3, 4, 5]\n"
     ]
    }
   ],
   "source": [
    "print(list(range(5))+list(range(6)))"
   ]
  },
  {
   "cell_type": "markdown",
   "metadata": {},
   "source": [
    "#combine_first()\n",
    "a.combine_first(b):\n",
    "用若a中出现空值，用b总对应索引的值去填充"
   ]
  },
  {
   "cell_type": "code",
   "execution_count": 4,
   "metadata": {},
   "outputs": [
    {
     "name": "stdout",
     "output_type": "stream",
     "text": [
      "a:\n f    NaN\ne    2.5\nd    NaN\nc    3.5\nb    4.5\na    NaN\ndtype: float64\nb:\n f    0.0\ne    1.0\nd    2.0\nc    3.0\nb    4.0\na    5.0\ndtype: float64\nb.combine_first(a):\n f    0.0\ne    1.0\nd    2.0\nc    3.0\nb    4.0\na    5.0\ndtype: float64\ndf1:\n      a    b   c\n0  1.0  NaN   2\n1  NaN  2.0   6\n2  5.0  NaN  10\n3  NaN  6.0  14\ndf2:\n      a    b\n0  5.0  NaN\n1  4.0  3.0\n2  NaN  4.0\n3  5.0  6.0\n4  NaN  8.0\ndf1.combine_first(df2):\n      a    b     c\n0  1.0  NaN   2.0\n1  4.0  2.0   6.0\n2  5.0  4.0  10.0\n3  5.0  6.0  14.0\n4  NaN  8.0   NaN\n"
     ]
    }
   ],
   "source": [
    "a=Series([np.nan,2.5,np.nan,3.5,4.5,np.nan],\n",
    "         index=['f','e','d','c','b','a'])\n",
    "b=Series(np.arange(len(a),dtype=np.float64),\n",
    "         index=['f','e','d','c','b','a'])\n",
    "print(\"a:\\n\",a)\n",
    "print(\"b:\\n\",b)\n",
    "print(\"b.combine_first(a):\\n\",b.combine_first(a))\n",
    "df1=DataFrame({'a':[1,np.nan,5,np.nan],\n",
    "               'b':[np.nan,2,np.nan,6],\n",
    "               'c':range(2,18,4)})\n",
    "df2=DataFrame({'a':[5.,4.,np.nan,5.,np.nan],\n",
    "               'b':[np.nan,3.,4,6,8]})\n",
    "print(\"df1:\\n\",df1)\n",
    "print(\"df2:\\n\",df2)\n",
    "print(\"df1.combine_first(df2):\\n\",df1.combine_first(df2))"
   ]
  },
  {
   "cell_type": "code",
   "execution_count": null,
   "metadata": {},
   "outputs": [],
   "source": [
    "#重塑和轴向旋转\n",
    "stack():将数据的列转为行\n",
    "unstack():将数据的行转为列\n",
    "1，unstack()转换的默认是内层，可以传入参数指定那一层的转换\n",
    "2，如果不是所有的级别值都能在各分组中找到的话，则unstack()会引入nan值\n",
    "3，如果对象是DataFrame,则unstack()会创建具有多层结构的列索引"
   ]
  },
  {
   "cell_type": "code",
   "execution_count": 14,
   "metadata": {},
   "outputs": [
    {
     "name": "stdout",
     "output_type": "stream",
     "text": [
      "       a    b    c    d    e\none  0.0  1.0  2.0  3.0  NaN\ntwo  NaN  NaN  4.0  5.0  6.0\ndata:\n number    one  two  three\nstate                    \nOhio        0    1      2\nColorado    3    4      5\nresult=data.stack(),result:\n state     number\nOhio      one       0\n          two       1\n          three     2\nColorado  one       3\n          two       4\n          three     5\ndtype: int32\ndf:\n side             left  right\nstate    number             \nOhio     one        0      5\n         two        1      6\n         three      2      7\nColorado one        3      8\n         two        4      9\n         three      5     10\ndf.unstack(0):\n side   left          right         \nstate  Ohio Colorado  Ohio Colorado\nnumber                             \none       0        3     5        8\ntwo       1        4     6        9\nthree     2        5     7       10\n"
     ]
    }
   ],
   "source": [
    "s1=Series([0,1,2,3],index=['a','b','c','d'])\n",
    "s2=Series([4,5,6],index=['c','d','e'])\n",
    "print(pd.concat([s1,s2],keys=['one','two'],axis=0).unstack())\n",
    "data=DataFrame(np.arange(6).reshape((2,3)),\n",
    "               index=pd.Index(['Ohio','Colorado'],name='state'),\n",
    "               columns=pd.Index(['one','two','three'],name='number'))\n",
    "print(\"data:\\n\",data)\n",
    "result=data.stack()\n",
    "print(\"result=data.stack(),result:\\n\",result)\n",
    "#对DataFrame的unstack()操作\n",
    "df=DataFrame({'left':result,'right':5+result},\n",
    "             columns=pd.Index(['left','right'],name='side'))\n",
    "print(\"df:\\n\",df)\n",
    "print(\"df.unstack(0):\\n\",df.unstack(0))"
   ]
  },
  {
   "cell_type": "markdown",
   "metadata": {},
   "source": [
    "数据装换\n",
    "1,map()函数用来对集合数据中的元素进行函数运行，属于元素级别上的运算\n",
    "2，replace()用来替换值\n",
    "3，duplicated()函数用来得到每一行是否重复，drop_duplicated()则直接丢掉重复的行\n",
    "4，cut()和qcut()均表示对连续子的区间划分：\n",
    "  切分得到的对象labels和levels两个属性，前者表示各个数据所在的切分段，后者表示切分出来的具体分段，每一个分段作为一个分段对象存在\n",
    "   cut():根据传入的切分点，对集合数据进行划分，如果不传入切分点，则根据最大最小值以及传入的切分段的数目进行均分\n",
    "   qcut():可以根据集合中的分位数进行切分\n",
    "  \n",
    "\n"
   ]
  },
  {
   "cell_type": "code",
   "execution_count": 24,
   "metadata": {},
   "outputs": [
    {
     "name": "stdout",
     "output_type": "stream",
     "text": [
      "ages:\n [20, 22, 25, 27, 21, 23, 37, 31, 61, 45, 41, 32] \nbins:\n [18, 25, 35, 60, 100] \ncats=pd.cut(ages,bins):\n [(18, 25], (18, 25], (18, 25], (25, 35], (18, 25], ..., (25, 35], (60, 100], (35, 60], (35, 60], (25, 35]]\nLength: 12\nCategories (4, object): [(18, 25] < (25, 35] < (35, 60] < (60, 100]]\ncats.codes:\n [0 0 0 1 0 0 2 1 3 2 2 1]\npd.value_counts(cats)\n (18, 25]     5\n(35, 60]     3\n(25, 35]     3\n(60, 100]    1\ndtype: int64\n"
     ]
    }
   ],
   "source": [
    "ages=[20,22,25,27,21,23,37,31,61,45,41,32]\n",
    "bins=[18,25,35,60,100]\n",
    "cats=pd.cut(ages,bins)\n",
    "print(\"ages:\\n\",ages,\"\\nbins:\\n\",bins,\"\\ncats=pd.cut(ages,bins):\\n\",cats)\n",
    "# print(cats.categorical)\n",
    "print(\"cats.codes:\\n\",cats.codes)\n",
    "print(\"pd.value_counts(cats)\\n\",pd.value_counts(cats))"
   ]
  },
  {
   "cell_type": "code",
   "execution_count": null,
   "metadata": {},
   "outputs": [],
   "source": [
    "检测和过滤异常值"
   ]
  },
  {
   "cell_type": "code",
   "execution_count": 34,
   "metadata": {
    "collapsed": true
   },
   "outputs": [
    {
     "name": "stdout",
     "output_type": "stream",
     "text": [
      "np.abs(col)>3:\n 0    True\n1    True\n2    True\n3    True\ndtype: bool\n"
     ]
    }
   ],
   "source": [
    "np.random.seed(12345)\n",
    "data=DataFrame(np.random.randn(1000,4))\n",
    "col=data[3]\n",
    "# print(\"col:\\n\",col)\n",
    "#any()函数传入的参数0和1不一样，0表示按列判断，最后得到一行数据，1表示按行计算，最后得到一列\n",
    "print(\"np.abs(col)>3:\\n\",(np.abs(data)>3).any(0))"
   ]
  },
  {
   "cell_type": "code",
   "execution_count": null,
   "metadata": {},
   "outputs": [],
   "source": [
    "排列和随机采样:permutation()和take()"
   ]
  },
  {
   "cell_type": "code",
   "execution_count": null,
   "metadata": {},
   "outputs": [],
   "source": [
    "计算哑变量:get_dummies()"
   ]
  },
  {
   "cell_type": "code",
   "execution_count": 3,
   "metadata": {},
   "outputs": [
    {
     "name": "stdout",
     "output_type": "stream",
     "text": [
      "a=pd.get_dummies(df['key']) a：\n    a  b  c\n0  0  1  0\n1  0  1  0\n2  1  0  0\n3  0  0  1\n4  1  0  0\n5  0  1  0\ndummiey with data:\n    data1  a  b  c\n0      0  0  1  0\n1      1  0  1  0\n2      2  1  0  0\n3      3  0  0  1\n4      4  1  0  0\n5      5  0  1  0\n"
     ]
    }
   ],
   "source": [
    "df=DataFrame({'key':['b','b','a','c','a','b'],'data1':range(6)})\n",
    "a=pd.get_dummies(df['key'])\n",
    "print(\"a=pd.get_dummies(df['key']) a：\\n\",a)\n",
    "print(\"dummiey with data:\\n\",df.drop('key',axis=1).join(a))"
   ]
  },
  {
   "cell_type": "code",
   "execution_count": null,
   "metadata": {},
   "outputs": [],
   "source": [
    ""
   ]
  }
 ],
 "metadata": {
  "kernelspec": {
   "display_name": "Python 2",
   "language": "python",
   "name": "python2"
  },
  "language_info": {
   "codemirror_mode": {
    "name": "ipython",
    "version": 2.0
   },
   "file_extension": ".py",
   "mimetype": "text/x-python",
   "name": "python",
   "nbconvert_exporter": "python",
   "pygments_lexer": "ipython2",
   "version": "2.7.6"
  }
 },
 "nbformat": 4,
 "nbformat_minor": 0
}