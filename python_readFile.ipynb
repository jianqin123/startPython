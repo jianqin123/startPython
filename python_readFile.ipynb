{
 "cells": [
  {
   "cell_type": "markdown",
   "metadata": {
    "collapsed": true
   },
   "source": [
    "python中读取文件\n",
    "1,python中与文件的交互通常需要先创建管道，也就是先需要和文件建立连接\n",
    "2,读取中常用的方法有readline()和read()方法\n"
   ]
  },
  {
   "cell_type": "code",
   "execution_count": 4,
   "metadata": {},
   "outputs": [
    {
     "name": "stdout",
     "output_type": "stream",
     "text": [
      "first line\n\nsecond line\n\nthird line\n\nfirst line\nsecond line\nthird line\nfirst line\n\nsecond line\n\nthird line\n"
     ]
    }
   ],
   "source": [
    "testFile=open('temp.txt','r')\n",
    "for  line in testFile:\n",
    "    print(line)\n",
    "all_testFile=testFile.read()#内部其实也是调用readLine()方法逐行读取，返回一个字符串\n",
    "print(all_testFile)\n",
    "testFile.close()\n",
    "#with 与读取文件相结合\n",
    "with open('temp.txt','r') as f:\n",
    "    f_read=f.read()\n",
    "    print(f_read)\n",
    "    f.seek(0)#重新将光标移到文首\n",
    "    for line in f:\n",
    "        print(line)"
   ]
  },
  {
   "cell_type": "code",
   "execution_count": null,
   "metadata": {},
   "outputs": [],
   "source": [
    "读取csv文件"
   ]
  }
 ],
 "metadata": {
  "kernelspec": {
   "display_name": "Python 2",
   "language": "python",
   "name": "python2"
  },
  "language_info": {
   "codemirror_mode": {
    "name": "ipython",
    "version": 2.0
   },
   "file_extension": ".py",
   "mimetype": "text/x-python",
   "name": "python",
   "nbconvert_exporter": "python",
   "pygments_lexer": "ipython2",
   "version": "2.7.6"
  }
 },
 "nbformat": 4,
 "nbformat_minor": 0
}