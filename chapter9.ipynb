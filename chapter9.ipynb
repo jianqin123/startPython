{
 "cells": [
  {
   "cell_type": "code",
   "execution_count": null,
   "metadata": {
    "collapsed": true
   },
   "outputs": [],
   "source": [
    "python中关于目录/文件夹的结构\n"
   ]
  },
  {
   "cell_type": "code",
   "execution_count": 4,
   "metadata": {},
   "outputs": [
    {
     "name": "stdout",
     "output_type": "stream",
     "text": [
      "cuurent dic:  C:\\Users\\Jackokie\\PycharmProjects\ncurList ['Merdeces_Benz', 'staringPython', 'untitled', 'untitled1']\nafter changes : C:\\Users\\Jackokie\\PycharmProjects\\staringPython\n"
     ]
    }
   ],
   "source": [
    "import os\n",
    "curdir=os.getcwd()\n",
    "curList=os.listdir()\n",
    "os.chdir(\"C:/Users/Jackokie/PycharmProjects\")\n",
    "os.chdir(\"C:/Users/Jackokie/PycharmProjects/staringPython\")\n",
    "print(\"cuurent dic: \",curdir)\n",
    "print(\"curList\",curList)\n",
    "print(\"after changes :\",os.getcwd())"
   ]
  },
  {
   "cell_type": "code",
   "execution_count": null,
   "metadata": {},
   "outputs": [],
   "source": [
    ""
   ]
  }
 ],
 "metadata": {
  "kernelspec": {
   "display_name": "Python 2",
   "language": "python",
   "name": "python2"
  },
  "language_info": {
   "codemirror_mode": {
    "name": "ipython",
    "version": 2.0
   },
   "file_extension": ".py",
   "mimetype": "text/x-python",
   "name": "python",
   "nbconvert_exporter": "python",
   "pygments_lexer": "ipython2",
   "version": "2.7.6"
  }
 },
 "nbformat": 4,
 "nbformat_minor": 0
}