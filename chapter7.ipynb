{
 "cells": [
  {
   "cell_type": "heading",
   "metadata": {
    "collapsed": true
   },
   "level": 1,
   "source": [
    "Python中的形参和实参\n",
    "1，python中函数的形参和实参实际复制的是应用，但是如果传入的是不可变对象\n",
    "在函数内部对于形参的改变将会生成新的对象，使得形式参数指向新的参数，而实参不发生任何变化\n",
    "如果传入的是可变对象，那么对于形参的变化不会生成新的对象，此时形参和实参都指向同一个对象,并且对象会发生变化\n"
   ]
  },
  {
   "cell_type": "code",
   "execution_count": 7,
   "metadata": {},
   "outputs": [
    {
     "name": "stdout",
     "output_type": "stream",
     "text": [
      "intVal does not change 2\nalist changed [4, 2, 3]\n"
     ]
    }
   ],
   "source": [
    "#c传入形式参数\n",
    "def function1(alist): \n",
    "    alist[0]=alist[0]+1\n",
    "#传入不可变对象\n",
    "def function3(intVal):\n",
    "    intVal=intVal+1;\n",
    "intVal=2\n",
    "function3(intVal)\n",
    "print(\"intVal does not change\",intVal)\n",
    "aList=[3,2,3]\n",
    "function1(aList)\n",
    "print(\"alist changed\",aList)"
   ]
  },
  {
   "cell_type": "code",
   "execution_count": null,
   "metadata": {},
   "outputs": [],
   "source": [
    ""
   ]
  }
 ],
 "metadata": {
  "kernelspec": {
   "display_name": "Python 2",
   "language": "python",
   "name": "python2"
  },
  "language_info": {
   "codemirror_mode": {
    "name": "ipython",
    "version": 2.0
   },
   "file_extension": ".py",
   "mimetype": "text/x-python",
   "name": "python",
   "nbconvert_exporter": "python",
   "pygments_lexer": "ipython2",
   "version": "2.7.6"
  }
 },
 "nbformat": 4,
 "nbformat_minor": 0
}