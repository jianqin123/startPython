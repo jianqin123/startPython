{
 "cells": [
  {
   "cell_type": "heading",
   "metadata": {
    "collapsed": true
   },
   "level": 1,
   "source": [
    "列表和元组"
   ]
  },
  {
   "cell_type": "markdown",
   "metadata": {},
   "source": [
    "列表的初始化\n",
    "1，列表可以容纳不同类型的数据\n",
    "2，二维列表可以容纳多个不同的列表\n",
    "3，list()构造函数，可以构造list，但是传入其中的必须是集合\n",
    "4，列表是可变的，不同于字符串虽然是集合类型，但是字符串不是可变的"
   ]
  },
  {
   "cell_type": "code",
   "execution_count": 15,
   "metadata": {},
   "outputs": [
    {
     "name": "stdout",
     "output_type": "stream",
     "text": [
      "aList: [1, 2, 'a', 3.141592653589793]\nalist:[1, 2, 'a', 3.141592653589793]\nweekDays: ['Monday', 'TuesDay', 'WednesDay', 'ThursDay', 'Friday']\nlistOfList: [[1, 2, 3], [1, 2, 'a', 3.141592653589793], ['Monday', 'TuesDay', 'WednesDay', 'ThursDay', 'Friday'], ['a', 'b', 'c']]\nlistFromCollection: ['h', 'e', 'l', 'l', 'o']\n"
     ]
    }
   ],
   "source": [
    "import  math\n",
    "aList=[1,2,'a',math.pi]\n",
    "weekDays=['Monday','TuesDay','WednesDay','ThursDay','Friday']\n",
    "listOfList=[[1,2,3],aList,weekDays,['a','b','c']]\n",
    "listFromCollection=list(\"hello\")\n",
    "print(\"aList:\",aList)\n",
    "print(\"alist:\"+str(aList))\n",
    "print(\"weekDays:\",weekDays)\n",
    "print(\"listOfList:\",listOfList)\n",
    "print(\"listFromCollection:\",listFromCollection)"
   ]
  },
  {
   "cell_type": "markdown",
   "metadata": {},
   "source": [
    "列表的分片和索引与字符串相同"
   ]
  },
  {
   "cell_type": "code",
   "execution_count": 15,
   "metadata": {},
   "outputs": [
    {
     "ename": "NameError",
     "evalue": "name 'alist' is not defined",
     "traceback": [
      "\u001b[1;31m---------------------------------------------------------------------------\u001b[0m",
      "\u001b[1;31mNameError\u001b[0m                                 Traceback (most recent call last)",
      "\u001b[1;32m<ipython-input-15-243ca00753ab>\u001b[0m in \u001b[0;36m<module>\u001b[1;34m()\u001b[0m\n\u001b[0;32m      1\u001b[0m \u001b[0maList\u001b[0m\u001b[1;33m[\u001b[0m\u001b[1;36m0\u001b[0m\u001b[1;33m]\u001b[0m\u001b[1;33m\u001b[0m\u001b[0m\n\u001b[0;32m      2\u001b[0m \u001b[0maList\u001b[0m\u001b[1;33m[\u001b[0m\u001b[1;33m-\u001b[0m\u001b[1;36m1\u001b[0m\u001b[1;33m]\u001b[0m\u001b[1;33m\u001b[0m\u001b[0m\n\u001b[1;32m----> 3\u001b[1;33m \u001b[0malist\u001b[0m\u001b[1;33m[\u001b[0m\u001b[1;36m1\u001b[0m\u001b[1;33m:\u001b[0m\u001b[1;33m]\u001b[0m\u001b[1;33m\u001b[0m\u001b[0m\n\u001b[0m\u001b[0;32m      4\u001b[0m \u001b[0malist\u001b[0m\u001b[1;33m[\u001b[0m\u001b[1;33m:\u001b[0m\u001b[1;36m3\u001b[0m\u001b[1;33m]\u001b[0m\u001b[1;33m\u001b[0m\u001b[0m\n\u001b[0;32m      5\u001b[0m \u001b[0malist\u001b[0m\u001b[1;33m[\u001b[0m\u001b[1;33m:\u001b[0m\u001b[1;36m3\u001b[0m\u001b[1;33m:\u001b[0m\u001b[1;36m1\u001b[0m\u001b[1;33m]\u001b[0m\u001b[1;33m\u001b[0m\u001b[0m\n",
      "\u001b[1;31mNameError\u001b[0m: name 'alist' is not defined"
     ],
     "output_type": "error"
    }
   ],
   "source": [
    "aList[0]\n",
    "aList[-1]\n",
    "alist[1:]\n",
    "alist[:3]\n",
    "alist[:3:1]"
   ]
  },
  {
   "cell_type": "markdown",
   "metadata": {},
   "source": [
    "列表上的运算符+和*\n",
    "+:将两个列表连接起来作为一个新的列表\n",
    "*:将该列表指定数字的次数后连接起来\n"
   ]
  },
  {
   "cell_type": "code",
   "execution_count": null,
   "metadata": {},
   "outputs": [
    {
     "name": "stdout",
     "output_type": "stream",
     "text": [
      "[1, 2, 'a', 3.141592653589793, 'Monday', 'TuesDay', 'WednesDay', 'ThursDay', 'Friday']\n[1, 2, 'a', 3.141592653589793, 'Monday', 'TuesDay', 'WednesDay', 'ThursDay', 'Friday', 1, 2, 'a', 3.141592653589793, 'Monday', 'TuesDay', 'WednesDay', 'ThursDay', 'Friday']\n"
     ]
    }
   ],
   "source": [
    "bList=aList+weekDays\n",
    "print(bList)\n",
    "bList=bList*2\n",
    "print(bList)"
   ]
  },
  {
   "cell_type": "markdown",
   "metadata": {},
   "source": [
    "列表也是可以进行比较运算的，比较是逐个进行比较得出最终结果，此处略"
   ]
  },
  {
   "cell_type": "code",
   "execution_count": null,
   "metadata": {},
   "outputs": [
    {
     "name": "stdout",
     "output_type": "stream",
     "text": [
      "1\n2\na\n3.141592653589793\n"
     ]
    }
   ],
   "source": [
    "for a in aList:\n",
    "    print(a)"
   ]
  },
  {
   "cell_type": "markdown",
   "metadata": {},
   "source": [
    "列表的可变性\n",
    "1，列表不同于字符串，虽然两者都是集合，列表是可变的，后者是不可变的\n",
    "2，可以对列表中的单个元素改变，也可以通过分片改变列表中的多个元素，但是，在改变多个元素时，赋值的右边必须是集合类型的"
   ]
  },
  {
   "cell_type": "code",
   "execution_count": 21,
   "metadata": {},
   "outputs": [
    {
     "name": "stdout",
     "output_type": "stream",
     "text": [
      "[1, 2, 'a', 'z']\n[True, 2, 'a', 'z']\n[True, 2]\n[27, 'a', 'z']\n[1, 2, 3, 4]\n<class 'range'>\nrange(1, 3)\n[1, 2]\n"
     ]
    }
   ],
   "source": [
    "myList=[1,2,'a','z']\n",
    "print(myList)\n",
    "myList[0]=True\n",
    "print(myList)\n",
    "print(myList[:2])\n",
    "myList[:2]=[27]\n",
    "print(myList)\n",
    "myList[:]=[1,2,3,4]\n",
    "print(myList)\n",
    "print(type(range(3)))#range 是一个单独的类型，不是lis，这点在不同版本中有所不一样，list构造可以通过 a:[],b:list()两种方式构建 ,z\n",
    "myList=range(1,3)\n",
    "print(myList)\n",
    "myList=list(myList)\n",
    "print(myList)\n",
    "#myList[:2]=15 对列表分片赋值必须是集合类型的"
   ]
  },
  {
   "cell_type": "markdown",
   "metadata": {},
   "source": [
    "列表自带的方法\n",
    " 1，不修改列表的方法，主要包括一些统计函数，比如count(x),index(x)\n",
    " 2,修改列表的方法\n",
    "   a,remove(),insert(),reverse(),pop(),extend()，sort(),append()等方法\n",
    "   b，extend()和append()区别，extend()参数是集合，其运行时逐个将元素加入到集合中，append()是直接将参数作为一个单独的元素加入到列表中\n",
    "   c,sort()和sorted()方法不同，sorted()可以作用在任何集合上，而且返回排序后的集合，对原集合不做改变，sort()只能作用在列表上，并且是直接改变原列表，并且如果是列表的列表，则只按照每个字集合的第一个元素排序\n",
    "\n",
    "   "
   ]
  },
  {
   "cell_type": "code",
   "execution_count": 22,
   "metadata": {},
   "outputs": [
    {
     "name": "stdout",
     "output_type": "stream",
     "text": [
      "original: [1, 12, 5, 8]\nappend: [1, 12, 5, 8, 14]\nextend: [1, 12, 5, 8, 14, 1, 2]\n"
     ]
    }
   ],
   "source": [
    "aList=[1,12,5,8]\n",
    "print(\"original:\",aList)\n",
    "aList.append(14)\n",
    "print(\"append:\",aList)\n",
    "aList.extend([1,2])\n",
    "print(\"extend:\",aList)"
   ]
  },
  {
   "cell_type": "code",
   "execution_count": 25,
   "metadata": {},
   "outputs": [
    {
     "name": "stdout",
     "output_type": "stream",
     "text": [
      "['python', 'is', 'great'] <class 'list'>\n"
     ]
    }
   ],
   "source": [
    "c=\"python   is great\".split()\n",
    "print(c,type(c))"
   ]
  },
  {
   "cell_type": "markdown",
   "metadata": {},
   "source": [
    "range()返回的不是list，而是单独的range类（这一点在不同版本中有所不一样）\n",
    "split()返回的是list()\n",
    "join(),在字符上调用，用来连接各个元素，类似R中的paste()\n",
    "sorted()：对集合类中的元素进行排序"
   ]
  },
  {
   "cell_type": "code",
   "execution_count": 27,
   "metadata": {},
   "outputs": [
    {
     "name": "stdout",
     "output_type": "stream",
     "text": [
      "[1.6, 2.7, 3.8, 4.9]\n['1.6', '2.7', '3.8', '4.9']\n[1, 2, 3, 4]\n4.9\n9\n"
     ]
    }
   ],
   "source": [
    "myList=[1.6,2.7,3.8,4.9]\n",
    "newList=[]\n",
    "aList=[]\n",
    "for val in myList:\n",
    "    temp=str(val)\n",
    "    aList.append(temp)\n",
    "for val in aList:\n",
    "    newList.append(int(val[0]))\n",
    "mystr=':'.join(val)\n",
    "print(myList)\n",
    "print(aList)\n",
    "print(newList)\n",
    "print(val)\n",
    "print(mystr)"
   ]
  },
  {
   "cell_type": "markdown",
   "metadata": {},
   "source": [
    "python中可变对象与不可变对象 等价于java中的基本数据类型和引用对象类型数据，此外在python中还有深度复制和浅复制\n",
    "深复制：是指复制过来的对象的内容，而不是简单的复制引用\n",
    "浅复制：复制对象的应用，如果该引用的对象发生了改变，则新构建的对象中关于引用对象的部分也会发生同样的改变\n",
    "\n"
   ]
  },
  {
   "cell_type": "code",
   "execution_count": 39,
   "metadata": {},
   "outputs": [
    {
     "name": "stdout",
     "output_type": "stream",
     "text": [
      "original : ['hi', 'mom', 'dad', ['grandma', 'grandpa']]\nchanged strList  ['change hi', 'mom', 'dad', ['grandma', 'grandpa']] \n  then  copyList  ['hi', 'mom', 'dad', ['grandma', 'grandpa']]\nthen copyList1 : ['1', '2', '3', ['change hi', 'mom', 'dad', ['grandma', 'grandpa']]]\nthen copyList2 : ['hi', 'mom', 'dad', ['grandma', 'grandpa']]\n"
     ]
    }
   ],
   "source": [
    "strList=\"hi mom dad \".split()\n",
    "strList.append(\"grandma grandpa\".split())\n",
    "print(\"original :\",strList)\n",
    "copyList=strList[:]#复制对象属于深度复制\n",
    "copyList1=\"1 2 3\".split()\n",
    "copyList1.append(strList)#属于浅复制\n",
    "\n",
    "import  copy\n",
    "copyList2=strList.copy()#属于深复制\n",
    "\n",
    "strList[0]=\"change hi\"\n",
    "print(\"changed strList \",strList,\"\\n\",\" then  copyList \",copyList)\n",
    "print(\"then copyList1 :\",copyList1)\n",
    "print(\"then copyList2 :\",copyList2)"
   ]
  },
  {
   "cell_type": "markdown",
   "metadata": {},
   "source": [
    "元组：python中的元组和字符很类似,主要有一下特点\n",
    " 1，不可变形，相对于list的一种数据结构持久化的补充\n",
    " 2，同样支持切片\n",
    " 3，in和for同样支持元组\n"
   ]
  },
  {
   "cell_type": "code",
   "execution_count": 41,
   "metadata": {},
   "outputs": [
    {
     "name": "stdout",
     "output_type": "stream",
     "text": [
      "(1, 2, 3, 4, 1, 2, 3, 4, 1, 2, 3, 4, 1, 2, 3, 4)\n1\n(2, 4, 2)\nFalse\n1\n2\n3\n4\n1\n2\n3\n4\n1\n2\n3\n4\n1\n2\n3\n4\n[1, 2, 3, 4, 1, 2, 3, 4, 1, 2, 3, 4, 1, 2, 3, 4]\n(1, 2, 3, 4, 1, 2, 3, 4, 1, 2, 3, 4, 1, 2, 3, 4)\n"
     ]
    }
   ],
   "source": [
    "myTuple=(1,2,3,4)\n",
    "myTuple=myTuple+myTuple\n",
    "myTuple*=2\n",
    "print(myTuple)\n",
    "print(myTuple[0])\n",
    "print(myTuple[1:6:2])\n",
    "print(\"1\" in myTuple) \n",
    "for i in myTuple:\n",
    "    print(i)\n",
    "#元组和列表之间的相互装换\n",
    "tupleToList=list(myTuple)\n",
    "print(tupleToList)\n",
    "listToTuple=tuple(tupleToList)\n",
    "print(listToTuple)"
   ]
  },
  {
   "cell_type": "markdown",
   "metadata": {},
   "source": [
    "numpy 中数组和arrange"
   ]
  },
  {
   "cell_type": "code",
   "execution_count": 47,
   "metadata": {},
   "outputs": [
    {
     "name": "stdout",
     "output_type": "stream",
     "text": [
      "[1 2 3 4]\n[1 3]\n[ 1.   1.2  1.4  1.6  1.8]\n"
     ]
    }
   ],
   "source": [
    "import  numpy\n",
    "myArray=numpy.array([1,2,3,4])\n",
    "print(myArray)\n",
    "print(myArray[::2])\n",
    "newArray=numpy.arange(1,2,0.2)\n",
    "print(newArray)"
   ]
  },
  {
   "cell_type": "code",
   "execution_count": null,
   "metadata": {},
   "outputs": [],
   "source": [
    ""
   ]
  }
 ],
 "metadata": {
  "kernelspec": {
   "display_name": "Python 2",
   "language": "python",
   "name": "python2"
  },
  "language_info": {
   "codemirror_mode": {
    "name": "ipython",
    "version": 2.0
   },
   "file_extension": ".py",
   "mimetype": "text/x-python",
   "name": "python",
   "nbconvert_exporter": "python",
   "pygments_lexer": "ipython2",
   "version": "2.7.6"
  }
 },
 "nbformat": 4,
 "nbformat_minor": 0
}