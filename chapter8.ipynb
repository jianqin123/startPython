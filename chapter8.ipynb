{
 "cells": [
  {
   "cell_type": "heading",
   "metadata": {
    "collapsed": true
   },
   "level": 1,
   "source": [
    "字典和集合"
   ]
  },
  {
   "cell_type": "heading",
   "metadata": {},
   "level": 1,
   "source": [
    "字典的创建：dict() 和{：,}\n",
    "1，字典的键必须是不可变对象，值可以是任何对象，同一个字典中,键和值之间都可以是不同的类型\n"
   ]
  },
  {
   "cell_type": "code",
   "execution_count": 8,
   "metadata": {},
   "outputs": [
    {
     "name": "stdout",
     "output_type": "stream",
     "text": [
      "contactes {'bill': 123, 'jiwei': 234, 'qinjian': 1234}\ncontacts['qinjian'] 1234\ndemo {2: 'sdfasd', (2, 3): [1, 2, 3]}\ndemo[2]: changes demo[2]\ndemo[(2,3)]: [1, 2, 3]\n"
     ]
    }
   ],
   "source": [
    "contacts={'bill':123,'qinjian':1234,\"jiwei\":234}\n",
    "print(\"contactes\",contacts)\n",
    "print(\"contacts['qinjian']\",contacts[\"qinjian\"])\n",
    "#键值都可以是使用不同的类型\n",
    "demo={2:\"sdfasd\",(2,3):[1,2,3]}\n",
    "print(\"demo\",demo)\n",
    "demo[2]=\"changes demo[2]\"\n",
    "print(\"demo[2]:\",demo[2])\n",
    "print(\"demo[(2,3)]:\",demo[(2,3)])"
   ]
  },
  {
   "cell_type": "heading",
   "metadata": {},
   "level": 1,
   "source": [
    "#字典的集合操作和字典方法\n",
    "1，集合操作\n",
    " []:使用索引\n",
    " len()：计算长度\n",
    " in ：检索字典中的键\n",
    " for:循环字典中的键 \n",
    "2，字典方法\n",
    " items():所有键值对的元组列表\n",
    " keys()：所有键的列表\n",
    " values()：所有值的列表\n",
    " copy():拷贝\n"
   ]
  },
  {
   "cell_type": "code",
   "execution_count": 19,
   "metadata": {},
   "outputs": [
    {
     "name": "stdout",
     "output_type": "stream",
     "text": [
      "1\n3\n5\nTrue\nitems():  dict_items([(1, 2), (3, 4), (5, 6)])\nkeys:  dict_keys([1, 3, 5])\nvalues:  dict_values([2, 4, 6])\ndict_items([(1, 2), (3, 4), (5, 6)]) \n dict_keys([1, 3, 5]) \n dict_values([2, 4, 6])\n<class 'dict_items'> \n <class 'dict_keys'> \n <class 'dict_values'>\n[2, 4, 6]\n"
     ]
    }
   ],
   "source": [
    "mydict={1:2,3:4,5:6}\n",
    "for key in mydict:\n",
    "    print(key)\n",
    "print(1 in mydict)\n",
    "print(\"items(): \",mydict.items())\n",
    "print(\"keys: \",mydict.keys())\n",
    "print(\"values: \",mydict.values())\n",
    "item=mydict.items()\n",
    "keys=mydict.keys()\n",
    "val=mydict.values()\n",
    "print(item,\"\\n\",keys,\"\\n\",val)\n",
    "print(type(item),\"\\n\",type(keys),\"\\n\",type(val))\n",
    "valList=list(val)#将dict_values类型装换为list\n",
    "print(valList)"
   ]
  },
  {
   "cell_type": "code",
   "execution_count": 24,
   "metadata": {},
   "outputs": [
    {
     "name": "stdout",
     "output_type": "stream",
     "text": [
      "{'My': 1, 'pleasure': 1, 'introduce': 1, 'he': 1, '': 1, 'here': 1, 'myself': 1, 'you': 1, 'to': 3}\n"
     ]
    }
   ],
   "source": [
    "#单词计数示例\n",
    "speech=\"My pleasure to he here to introduce myself to you you you you you \"\n",
    "wordDict={}\n",
    "for word in speech.split(\" \"):\n",
    "    if(word in wordDict):\n",
    "        if(wordDict[word]>=3):\n",
    "            # wordDict.pop(word)#删除字典中的元素\n",
    "            del wordDict[word]  #删除字典中的元素\n",
    "        else:\n",
    "            wordDict[word]=wordDict[word]+1   \n",
    "    else:\n",
    "        wordDict[word]=1\n",
    "print(wordDict)"
   ]
  },
  {
   "cell_type": "heading",
   "metadata": {},
   "level": 1,
   "source": [
    "集合 \n",
    "1，集合中元素是不重复的，并且是无序的\n",
    "2，初始化采用set()\n",
    "3,集合是不能采用索引的\n",
    "4,集合包括一系列的集合操作，如交集，并集， 差集，对称集，父集判断，子集判断等"
   ]
  },
  {
   "cell_type": "code",
   "execution_count": 15,
   "metadata": {},
   "outputs": [
    {
     "name": "stdout",
     "output_type": "stream",
     "text": [
      "{1, 2, 3} \n {1, 2, 3, 4, 5, 6, 7, 8}\n1\n2\n3\n4\n5\n6\n7\n8\n['a', 'b', 'c', 'd', 'e', 'fd', 'r', 'w']\n"
     ]
    }
   ],
   "source": [
    "aset=set([1,2,3])\n",
    "aset1=set(range(1,9))\n",
    "print(aset,\"\\n\",aset1)\n",
    "for set in aset1:\n",
    "    print(set)\n",
    "del  set  #必须删除set,避免后面用到set.union()方法时冲突\n",
    "c=['a,a,b,d','w,e,r,a','c,d,fd']\n",
    "a=[1,2,3]\n",
    "genres=(set(x.split(\",\")) for x in c)#得到一个生成器\n",
    "# print(genres.next())\n",
    "# for  one  in genres :\n",
    "#     print(one)\n",
    " \n",
    "print(sorted(set.union(*genres)))"
   ]
  },
  {
   "cell_type": "heading",
   "metadata": {},
   "level": 1,
   "source": [
    "python中关于作用域的详解此处略,详见python入门经典_P258"
   ]
  },
  {
   "cell_type": "heading",
   "metadata": {},
   "level": 1,
   "source": [
    "与dict相结合使用的zip函数\n"
   ]
  },
  {
   "cell_type": "code",
   "execution_count": 1,
   "metadata": {},
   "outputs": [
    {
     "name": "stdout",
     "output_type": "stream",
     "text": [
      "{1: 'I', 2: 'love', 3: 'you'}\n"
     ]
    }
   ],
   "source": [
    "keylist=[1,2,3]\n",
    "valList=\"I love you\".split()\n",
    "dict_w=dict(zip(keylist,valList))\n",
    "print(dict_w)"
   ]
  },
  {
   "cell_type": "code",
   "execution_count": null,
   "metadata": {},
   "outputs": [],
   "source": [
    ""
   ]
  }
 ],
 "metadata": {
  "kernelspec": {
   "display_name": "Python 2",
   "language": "python",
   "name": "python2"
  },
  "language_info": {
   "codemirror_mode": {
    "name": "ipython",
    "version": 2.0
   },
   "file_extension": ".py",
   "mimetype": "text/x-python",
   "name": "python",
   "nbconvert_exporter": "python",
   "pygments_lexer": "ipython2",
   "version": "2.7.6"
  }
 },
 "nbformat": 4,
 "nbformat_minor": 0
}