{
 "cells": [
  {
   "cell_type": "heading",
   "metadata": {
    "collapsed": true
   },
   "level": 1,
   "source": [
    "with用法\n",
    "with A() as b:\n",
    "  statement\n",
    "紧跟with后面的语句被求值后，返回对象的 __enter__() 方法被调用，这个方法的返回值将被赋值给as后面的变量。\n",
    "当with后面的代码块全部被执行完之后，将调用前面返回对象的 __exit__()方法\n",
    "实际上，在with后面的代码块抛出任何异常时，__exit__() 方法被执行。正如例子所示，异常抛出时，与之关联的\n",
    "type，value和stack trace传给 __exit__() 方法，因此抛出的ZeroDivisionError异常被打印出来了。开发库时，\n",
    "清理资源，关闭文件等等操作，都可以放在 __exit__ 方法当中。"
   ]
  },
  {
   "cell_type": "code",
   "execution_count": 2,
   "metadata": {},
   "outputs": [
    {
     "name": "stdout",
     "output_type": "stream",
     "text": [
      "first line\nsecond line\nthird line\n"
     ]
    }
   ],
   "source": [
    "with open('temp.txt','r') as f:\n",
    "    print(f.read())"
   ]
  },
  {
   "cell_type": "heading",
   "metadata": {},
   "level": 1,
   "source": [
    "*args,**kwargs用法\n",
    "*args:用来表示可变长度元组参数，\n",
    "**kwargs：用来表示可变长度字典参数\n",
    "通常*args必须放在** kwargs的前面"
   ]
  },
  {
   "cell_type": "code",
   "execution_count": 20,
   "metadata": {},
   "outputs": [
    {
     "name": "stdout",
     "output_type": "stream",
     "text": [
      "param1 : (1, 2, 3)\nparam2:  {'b': 2, 'a': 1}\nparam1 : ()\nparam2:  {}\n函数调用中使用*args\nparam1 : (1, 1, 2, 3)\nparam2:  {}\narg1: 1\narg2: two\narg3: 3\ntwo\narg1: 1\narg2: two\narg3: 2\n"
     ]
    }
   ],
   "source": [
    "def printParam(*para1,**param2) :\n",
    "    print(\"param1 :\",para1)\n",
    "    print(\"param2: \",param2)\n",
    "printParam(1,2,3,a=1,b=2)\n",
    "printParam()\n",
    "print('函数调用中使用*args')\n",
    "setPara=[1,2,3]\n",
    "printParam(1,*setPara) #函数定义用*和函数调用*两者只能选择一个（有待验证）\n",
    "    print (\"arg1:\", arg1)\n",
    "    print (\"arg2:\", arg2)\n",
    "    print (\"arg3:\", arg3)\n",
    "\n",
    "args = (\"two\", 3)\n",
    "args2=[\"two\",2]\n",
    "test_var_args_call(1, *args)\n",
    "# args1=(\"two\",\"3\",3)\n",
    "print(args1)\n",
    "test_var_args_call(1,*args2)"
   ]
  },
  {
   "cell_type": "heading",
   "metadata": {},
   "level": 1,
   "source": [
    "enumerate :枚举操作\n",
    "\n"
   ]
  },
  {
   "cell_type": "code",
   "execution_count": 7,
   "metadata": {},
   "outputs": [
    {
     "name": "stdout",
     "output_type": "stream",
     "text": [
      "0 j\n1 u\n2 s\n3 t\n4  \n5 g\n6 o\n7  \n8 a\n9 w\n10 a\n11 y\n[(1, 'j'), (2, 'u'), (3, 's'), (4, 't'), (5, ' '), (6, 'g'), (7, 'o'), (8, ' '), (9, 'a'), (10, 'w'), (11, 'a'), (12, 'y')]\n"
     ]
    }
   ],
   "source": [
    "i=0\n",
    "aString=\"just go away\"\n",
    "for i,item in enumerate(aString):\n",
    "    print(i,item)\n",
    "listTurple=list(enumerate(aString,1))\n",
    "print(listTurple)"
   ]
  },
  {
   "cell_type": "heading",
   "metadata": {},
   "level": 1,
   "source": [
    "for 的高级用法"
   ]
  },
  {
   "cell_type": "code",
   "execution_count": 10,
   "metadata": {},
   "outputs": [
    {
     "name": "stdout",
     "output_type": "stream",
     "text": [
      "myset [0, 15, 30, 45, 60]\nmydict {0: 0, 1: 1, 2: 4, 3: 9, 4: 16}\n"
     ]
    }
   ],
   "source": [
    "myDict={i: i*i for i in range(5)}\n",
    "mySet=[i*15 for i in range(5)]\n",
    "print('myset',mySet)\n",
    "print('mydict',myDict)"
   ]
  },
  {
   "cell_type": "markdown",
   "metadata": {},
   "source": [
    "三元运算\n",
    "[on_true] if [expression] else [on_false]"
   ]
  },
  {
   "cell_type": "code",
   "execution_count": 21,
   "metadata": {},
   "outputs": [
    {
     "name": "stdout",
     "output_type": "stream",
     "text": [
      "25\n"
     ]
    }
   ],
   "source": [
    "x, y = 50, 25\n",
    "small = x if x < y else y\n",
    "print(small)"
   ]
  },
  {
   "cell_type": "code",
   "execution_count": null,
   "metadata": {},
   "outputs": [],
   "source": [
    ""
   ]
  }
 ],
 "metadata": {
  "kernelspec": {
   "display_name": "Python 2",
   "language": "python",
   "name": "python2"
  },
  "language_info": {
   "codemirror_mode": {
    "name": "ipython",
    "version": 2.0
   },
   "file_extension": ".py",
   "mimetype": "text/x-python",
   "name": "python",
   "nbconvert_exporter": "python",
   "pygments_lexer": "ipython2",
   "version": "2.7.6"
  }
 },
 "nbformat": 4,
 "nbformat_minor": 0
}