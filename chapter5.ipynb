{
 "cells": [
  {
   "cell_type": "heading",
   "metadata": {
    "collapsed": true
   },
   "level": 1,
   "source": [
    " 自定义函数"
   ]
  },
  {
   "cell_type": "code",
   "execution_count": 25,
   "metadata": {},
   "outputs": [
    {
     "name": "stdout",
     "output_type": "stream",
     "text": [
      "6\n33\n"
     ]
    }
   ],
   "source": [
    "def makeOdd(n):\n",
    "    return n*2\n",
    "print(makeOdd(3))\n",
    "print(makeOdd('3'))"
   ]
  },
  {
   "cell_type": "heading",
   "metadata": {},
   "level": 1,
   "source": [
    "字符床函数strip():用来去除字符串开头和结尾处指定类型的字符  ***只适用于开头和结尾，默认是清除空白"
   ]
  },
  {
   "cell_type": "code",
   "execution_count": 27,
   "metadata": {},
   "outputs": [
    {
     "name": "stdout",
     "output_type": "stream",
     "text": [
      "   ,,in this area .,  -》去除之后-》in this area\n"
     ]
    }
   ],
   "source": [
    "def cleanWord(s):\n",
    "    return (s.strip('. , '))\n",
    "a=\"   ,,in this area .,  \"\n",
    "print(a+\"-》去除之后-》\"+cleanWord(a))"
   ]
  }
 ],
 "metadata": {
  "kernelspec": {
   "display_name": "Python 2",
   "language": "python",
   "name": "python2"
  },
  "language_info": {
   "codemirror_mode": {
    "name": "ipython",
    "version": 2.0
   },
   "file_extension": ".py",
   "mimetype": "text/x-python",
   "name": "python",
   "nbconvert_exporter": "python",
   "pygments_lexer": "ipython2",
   "version": "2.7.6"
  }
 },
 "nbformat": 4,
 "nbformat_minor": 0
}