{
 "cells": [
  {
   "cell_type": "code",
   "execution_count": null,
   "metadata": {
    "collapsed": true
   },
   "outputs": [],
   "source": [
    "#数据聚合和分组运算\n",
    "1，在做groupby()运算的时候，缺失值会被排除在分组之外，麻烦列也会被排除在应用函数中"
   ]
  },
  {
   "cell_type": "code",
   "execution_count": 5,
   "metadata": {},
   "outputs": [
    {
     "name": "stdout",
     "output_type": "stream",
     "text": [
      "df:\n       data1     data2 key1 key2\n0 -0.888421  0.514925    a  one\n1 -0.093404  0.573609    a  two\n2  1.167542  0.792770    b  one\n3  1.692898 -1.076395    b  two\n4 -2.161712 -0.613933    a  one\ngroupby()函数返回的是一个groupby对象，内部并不可见\ngrouped: <pandas.core.groupby.SeriesGroupBy object at 0x0000000007998E80>\ngrouped.mean():\n key1\na   -1.047846\nb    1.430220\nName: data1, dtype: float64\ndf[['data1','data2']].groupby(df['key1'],df['key2']).mean()\n               data1     data2\nkey1 key2                    \na    one  -1.525067 -0.049504\n     two  -0.093404  0.573609\nb    one   1.167542  0.792770\n     two   1.692898 -1.076395\ndf.groupby(by=['key1','key2']).mean()\n               data1     data2\nkey1 key2                    \na    one  -1.525067 -0.049504\n     two  -0.093404  0.573609\nb    one   1.167542  0.792770\n     two   1.692898 -1.076395\ndf.groupby(by='key1').mean()          data1     data2\nkey1                    \na    -1.047846  0.158200\nb     1.430220 -0.141813\n"
     ]
    }
   ],
   "source": [
    "import  pandas as pd \n",
    "import  numpy as np\n",
    "from  pandas import  DataFrame,Series\n",
    "df=DataFrame({\"key1\":'a a b b a'.split(),\"key2\":'one two one two one'.split(),\n",
    "              'data1':np.random.randn(5),'data2':np.random.randn(5)})\n",
    "print(\"df:\\n\",df)\n",
    "grouped=df['data1'].groupby(df['key1'])\n",
    "print(\"groupby()函数返回的是一个groupby对象，内部并不可见\\ngrouped:\",grouped)\n",
    "print(\"grouped.mean():\\n\",grouped.mean())\n",
    "#选取多个列并选取多个列作为分组键\n",
    "print(\"df[['data1','data2']].groupby(df['key1'],df['key2']).mean()\\n\",\n",
    "      df[['data1','data2']].groupby([df['key1'],df['key2']]).mean())\n",
    "#整个DataFrame作为被分组的对象\n",
    "print(\"df.groupby(by=['key1','key2']).mean()\\n\",df.groupby(by=['key1','key2']).mean())\n",
    "\n",
    "#在分组后计算统计量如最大值，平均值等，如果被分组的类中有类别列，则该麻烦列会被清理出去\n",
    "print(\"df.groupby(by='key1').mean()\\n\",df.groupby(by=['key1']).mean())"
   ]
  },
  {
   "cell_type": "code",
   "execution_count": null,
   "metadata": {},
   "outputs": [],
   "source": [
    ""
   ]
  }
 ],
 "metadata": {
  "kernelspec": {
   "display_name": "Python 2",
   "language": "python",
   "name": "python2"
  },
  "language_info": {
   "codemirror_mode": {
    "name": "ipython",
    "version": 2.0
   },
   "file_extension": ".py",
   "mimetype": "text/x-python",
   "name": "python",
   "nbconvert_exporter": "python",
   "pygments_lexer": "ipython2",
   "version": "2.7.6"
  }
 },
 "nbformat": 4,
 "nbformat_minor": 0
}