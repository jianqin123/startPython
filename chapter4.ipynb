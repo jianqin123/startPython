{
 "cells": [
  {
   "cell_type": "code",
   "execution_count": 80,
   "metadata": {
    "collapsed": true
   },
   "outputs": [],
   "source": [
    "a=str(\"123\")"
   ]
  },
  {
   "cell_type": "heading",
   "metadata": {},
   "level": 1,
   "source": [
    "字符创操作 +(字符串的连接符号)和重复（*）"
   ]
  },
  {
   "cell_type": "code",
   "execution_count": 81,
   "metadata": {},
   "outputs": [
    {
     "name": "stdout",
     "output_type": "stream",
     "text": [
      "helloworld\n"
     ]
    }
   ],
   "source": [
    "he=\"hello\"\n",
    "wor=\"world\"\n",
    "heword=he+wor\n",
    "print(heword)"
   ]
  },
  {
   "cell_type": "heading",
   "metadata": {},
   "level": 2,
   "source": [
    "hehehe=he*3\n",
    "print(hehehe)"
   ]
  },
  {
   "cell_type": "heading",
   "metadata": {},
   "level": 1,
   "source": [
    "所以对于+和*具体运算时，会根据运算对象类型而定，字符类则执行连接和重复操作，而数字类则执行数字运算操作"
   ]
  },
  {
   "cell_type": "heading",
   "metadata": {},
   "level": 1,
   "source": [
    "1，字符串的比较\n",
    "在python中可以对单个字符进行比较，也可以基于多个字符的字符串进行比较\n",
    "此处略\n",
    "2，字符串一旦初始化，就不能改变\n",
    "3，字符串的修改不会改变原字符床的值，以上两点与java中等同\n"
   ]
  },
  {
   "cell_type": "code",
   "execution_count": 82,
   "metadata": {},
   "outputs": [
    {
     "name": "stdout",
     "output_type": "stream",
     "text": [
      "J23\n"
     ]
    }
   ],
   "source": [
    "print(\"J\"+a[1:])"
   ]
  },
  {
   "cell_type": "heading",
   "metadata": {},
   "level": 1,
   "source": [
    "描述符码"
   ]
  },
  {
   "cell_type": "code",
   "execution_count": 83,
   "metadata": {},
   "outputs": [
    {
     "name": "stdout",
     "output_type": "stream",
     "text": [
      "d is sdf\n"
     ]
    }
   ],
   "source": [
    "print(\"%s is %s\" % (\"d\",\"sdf\"))"
   ]
  },
  {
   "cell_type": "heading",
   "metadata": {},
   "level": 1,
   "source": [
    "指定字符宽度和对齐方式"
   ]
  },
  {
   "cell_type": "code",
   "execution_count": 84,
   "metadata": {},
   "outputs": [
    {
     "name": "stdout",
     "output_type": "stream",
     "text": [
      "         c is d    \n"
     ]
    }
   ],
   "source": [
    "print(\"%10s is %-5s\" % (\"c\",\"d\"))"
   ]
  },
  {
   "cell_type": "heading",
   "metadata": {},
   "level": 1,
   "source": [
    "指定浮点型数据精度"
   ]
  },
  {
   "cell_type": "code",
   "execution_count": 85,
   "metadata": {},
   "outputs": [
    {
     "name": "stdout",
     "output_type": "stream",
     "text": [
      "PI is 3.1416\n"
     ]
    }
   ],
   "source": [
    "import math\n",
    "print(\"PI is %.4f\" % (math.pi))"
   ]
  },
  {
   "cell_type": "heading",
   "metadata": {},
   "level": 1,
   "source": [
    "python中for - else组合\n",
    "如果for循环从for循环内部的break语句终止了，则不会执行else语句\n",
    "否则就会执行else语句\n"
   ]
  },
  {
   "cell_type": "code",
   "execution_count": 86,
   "metadata": {},
   "outputs": [
    {
     "name": "stdout",
     "output_type": "stream",
     "text": [
      "0\n1\n2\n3\n4\n5\n6\n7\nstop and then come here to execute else\n0\n1\n2\n3\n4\n5\n6\n7\n"
     ]
    }
   ],
   "source": [
    "for a in range(8):\n",
    "    print(a)\n",
    "    if(a==9) :   break\n",
    "else:\n",
    "    print(\"stop and then come here to execute else\")\n",
    "for a in range(8):\n",
    "    print(a)\n",
    "    if(a==9) :   break\n",
    "else:  \n",
    "    if(a!=7): print(a)"
   ]
  },
  {
   "cell_type": "heading",
   "metadata": {},
   "level": 1,
   "source": [
    "python中对字符分割常用字符串方法split()与java中类似，此处略"
   ]
  },
  {
   "cell_type": "heading",
   "metadata": {},
   "level": 1,
   "source": [
    "回文序列和string模块中的部分字符床"
   ]
  },
  {
   "cell_type": "code",
   "execution_count": 87,
   "metadata": {},
   "outputs": [
    {
     "name": "stdout",
     "output_type": "stream",
     "text": [
      "forward : Madam，I'm Adam \nbackward : madA m'I，madaM\nforward : A man,a plan,a canal,Panama \nbackward : amanaP,lanac a,nalp a,nam A\n"
     ]
    }
   ],
   "source": [
    "pal1=\"Madam，I'm Adam\"\n",
    "pal2=\"A man,a plan,a canal,Panama\"\n",
    "print(\"forward : %s \\nbackward : %s\" %(pa11,pal1[::-1]))\n",
    "print(\"forward : %s \\nbackward : %s\" %(pal2,pal2[::-1]))"
   ]
  },
  {
   "cell_type": "code",
   "execution_count": 88,
   "metadata": {},
   "outputs": [
    {
     "name": "stdout",
     "output_type": "stream",
     "text": [
      "!\"#$%&'()*+,-./:;<=>?@[\\]^_`{|}~\n0123456789\nabcdefghijklmnopqrstuvwxyz\nABCDEFGHIJKLMNOPQRSTUVWXYZ\n"
     ]
    }
   ],
   "source": [
    "import  string\n",
    "chrac=string.punctuation\n",
    "digi=string.digits\n",
    "lower=string.ascii_lowercase\n",
    "upper=string.ascii_uppercase\n",
    "print(chrac)\n",
    "print(digi)\n",
    "print(lower)\n",
    "print(upper)"
   ]
  }
 ],
 "metadata": {
  "kernelspec": {
   "display_name": "Python 2",
   "language": "python",
   "name": "python2"
  },
  "language_info": {
   "codemirror_mode": {
    "name": "ipython",
    "version": 2.0
   },
   "file_extension": ".py",
   "mimetype": "text/x-python",
   "name": "python",
   "nbconvert_exporter": "python",
   "pygments_lexer": "ipython2",
   "version": "2.7.6"
  }
 },
 "nbformat": 4,
 "nbformat_minor": 0
}